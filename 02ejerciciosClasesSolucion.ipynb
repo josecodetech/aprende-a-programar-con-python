{
  "nbformat": 4,
  "nbformat_minor": 0,
  "metadata": {
    "colab": {
      "provenance": []
    },
    "kernelspec": {
      "name": "python3",
      "display_name": "Python 3"
    },
    "language_info": {
      "name": "python"
    }
  },
  "cells": [
    {
      "cell_type": "markdown",
      "source": [
        "Crea una clase Articulo con los atributos que consideres necesarios."
      ],
      "metadata": {
        "id": "n-402MFaEQpM"
      }
    },
    {
      "cell_type": "code",
      "execution_count": 1,
      "metadata": {
        "id": "7lqvLRNODvjt"
      },
      "outputs": [],
      "source": [
        "class Articulo:\n",
        "  def __init__(self,descripcion, cantidad, p_coste):\n",
        "    self.descripcion = descripcion\n",
        "    self.cantidad = cantidad\n",
        "    self.p_coste = p_coste\n",
        "    self.p_venta = self.p_coste * 2\n",
        "  def __str__(self):\n",
        "    return f\"Creado {self.descripcion}, {self.cantidad} unidades a un pvp de {self.p_venta}\"\n",
        "\n"
      ]
    },
    {
      "cell_type": "code",
      "source": [
        "portatil = Articulo(\"Ordenador portatil\",5, 725.30)\n",
        "print(portatil)"
      ],
      "metadata": {
        "id": "_jCM0KQCMpZt",
        "colab": {
          "base_uri": "https://localhost:8080/"
        },
        "outputId": "e4d3e936-3d68-466a-cd1a-089949e2bfff"
      },
      "execution_count": 2,
      "outputs": [
        {
          "output_type": "stream",
          "name": "stdout",
          "text": [
            "Creado Ordenador portatil, 5 unidades a un pvp de 1450.6\n"
          ]
        }
      ]
    },
    {
      "cell_type": "markdown",
      "source": [
        "Define un metodo para la clase anterior donde simules una venta y reste la cantidad vendida de existencias."
      ],
      "metadata": {
        "id": "Hv1WxynoELs2"
      }
    },
    {
      "cell_type": "code",
      "source": [
        "class Articulo:\n",
        "  def __init__(self,descripcion, cantidad, p_coste):\n",
        "    self.descripcion = descripcion\n",
        "    self.cantidad = cantidad\n",
        "    self.p_coste = p_coste\n",
        "    self.p_venta = self.p_coste * 2\n",
        "  def __str__(self):\n",
        "    return f\"Creado {self.descripcion}, {self.cantidad} unidades a un pvp de {self.p_venta}\"\n",
        "  def vender(self, unidades):\n",
        "    self.cantidad = self.cantidad - unidades\n",
        "    return f\"Vendido {unidades} del {self.descripcion} a {self.p_venta*unidades}\"\n",
        "  def dame_cantidad(self):\n",
        "    return f\"Del {self.descripcion} tenemos {self.cantidad} unidades\""
      ],
      "metadata": {
        "id": "qtDvCN_mJW1e"
      },
      "execution_count": 3,
      "outputs": []
    },
    {
      "cell_type": "code",
      "source": [
        "portatil = Articulo(\"Ordenador portatil\",15, 815.30)\n",
        "print(portatil)\n",
        "print(portatil.dame_cantidad())\n",
        "print(portatil.vender(2))\n",
        "print(portatil.dame_cantidad())"
      ],
      "metadata": {
        "id": "6nPlc4KcMzga",
        "colab": {
          "base_uri": "https://localhost:8080/"
        },
        "outputId": "d73fbe72-7d20-4c8d-80d2-cd0bd2e80f75"
      },
      "execution_count": 4,
      "outputs": [
        {
          "output_type": "stream",
          "name": "stdout",
          "text": [
            "Creado Ordenador portatil, 15 unidades a un pvp de 1630.6\n",
            "Del Ordenador portatil tenemos 15 unidades\n",
            "Vendido 2 del Ordenador portatil a 3261.2\n",
            "Del Ordenador portatil tenemos 13 unidades\n"
          ]
        }
      ]
    },
    {
      "cell_type": "markdown",
      "source": [
        "Crea una clase llamada Articulos_de_Oficina que herede de la clase anterior."
      ],
      "metadata": {
        "id": "zyhUhMxjJFEq"
      }
    },
    {
      "cell_type": "code",
      "source": [
        "class Articulos_de_Oficina(Articulo):\n",
        "  def __init__(self,descripcion, cantidad, p_coste):\n",
        "    self.descripcion = descripcion\n",
        "    self.cantidad = cantidad\n",
        "    self.p_coste = p_coste\n",
        "    self.p_venta = self.p_coste * 2\n",
        "  def __str__(self):\n",
        "    return f\"Creado {self.descripcion}, {self.cantidad} unidades a un pvp de {self.p_venta}\"\n",
        "    "
      ],
      "metadata": {
        "id": "MINB4MFdJYAs"
      },
      "execution_count": 5,
      "outputs": []
    },
    {
      "cell_type": "code",
      "source": [
        "folios = Articulos_de_Oficina(\"pack de 500 folios\",30, 1.75)\n",
        "print(folios)"
      ],
      "metadata": {
        "id": "POA3vWRBNKKu",
        "colab": {
          "base_uri": "https://localhost:8080/"
        },
        "outputId": "735270ab-48f3-4b11-9706-2bc5473f1e16"
      },
      "execution_count": 6,
      "outputs": [
        {
          "output_type": "stream",
          "name": "stdout",
          "text": [
            "Creado pack de 500 folios, 30 unidades a un pvp de 3.5\n"
          ]
        }
      ]
    },
    {
      "cell_type": "markdown",
      "source": [
        "Añade un metodo a la clase Articulos_de_Oficina que permita realizar devoluciones e incrementar existencias.\n"
      ],
      "metadata": {
        "id": "lnCLD3pnJYkx"
      }
    },
    {
      "cell_type": "code",
      "source": [
        "class Articulos_de_Oficina(Articulo):\n",
        "  def __init__(self,descripcion, cantidad, p_coste):\n",
        "    self.descripcion = descripcion\n",
        "    self.cantidad = cantidad\n",
        "    self.p_coste = p_coste\n",
        "    self.p_venta = self.p_coste * 2\n",
        "  def __str__(self):\n",
        "    return f\"Creado {self.descripcion}, {self.cantidad} unidades a un pvp de {self.p_venta}\"\n",
        "  def devolver(self, unidades):\n",
        "    self.cantidad = self.cantidad + unidades\n",
        "    return f\"Devuelto {unidades} del {self.descripcion} a {self.p_venta*unidades}\"\n",
        "    "
      ],
      "metadata": {
        "id": "LzHAsFAkJqsL"
      },
      "execution_count": 7,
      "outputs": []
    },
    {
      "cell_type": "code",
      "source": [
        "folios = Articulos_de_Oficina(\"pack de 500 folios\",35, 1.65)\n",
        "print(folios)\n",
        "print(folios.dame_cantidad())\n",
        "print(folios.vender(11))\n",
        "print(folios.dame_cantidad())\n",
        "print(folios.devolver(3))\n",
        "print(folios.dame_cantidad())"
      ],
      "metadata": {
        "id": "8TNcrKF1OCe2",
        "colab": {
          "base_uri": "https://localhost:8080/"
        },
        "outputId": "530ec51d-f525-4023-937d-80241c6386e0"
      },
      "execution_count": 9,
      "outputs": [
        {
          "output_type": "stream",
          "name": "stdout",
          "text": [
            "Creado pack de 500 folios, 35 unidades a un pvp de 3.3\n",
            "Del pack de 500 folios tenemos 35 unidades\n",
            "Vendido 11 del pack de 500 folios a 36.3\n",
            "Del pack de 500 folios tenemos 24 unidades\n",
            "Devuelto 3 del pack de 500 folios a 9.899999999999999\n",
            "Del pack de 500 folios tenemos 27 unidades\n"
          ]
        }
      ]
    },
    {
      "cell_type": "code",
      "source": [],
      "metadata": {
        "id": "NiPlu8CeTxtE"
      },
      "execution_count": null,
      "outputs": []
    }
  ]
}