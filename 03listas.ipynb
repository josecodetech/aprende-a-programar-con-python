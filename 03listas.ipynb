{
  "nbformat": 4,
  "nbformat_minor": 0,
  "metadata": {
    "colab": {
      "provenance": []
    },
    "kernelspec": {
      "name": "python3",
      "display_name": "Python 3"
    },
    "language_info": {
      "name": "python"
    }
  },
  "cells": [
    {
      "cell_type": "markdown",
      "source": [
        "#Listas"
      ],
      "metadata": {
        "id": "UUSXSrEdDxjI"
      }
    },
    {
      "cell_type": "code",
      "execution_count": 1,
      "metadata": {
        "id": "Yh42rZ7nDZ5D"
      },
      "outputs": [],
      "source": [
        "colores01 = 'rojo'\n",
        "colores02 = 'verde'\n",
        "colores03 = 'azul'"
      ]
    },
    {
      "cell_type": "code",
      "source": [
        "lista = [1,3,4,5,2,1,False,\"Hola\",2,4,5,2,2,4,5,2,1,3,4]"
      ],
      "metadata": {
        "id": "w7yz1WdDD1pp"
      },
      "execution_count": 7,
      "outputs": []
    },
    {
      "cell_type": "code",
      "source": [
        "type(lista)"
      ],
      "metadata": {
        "colab": {
          "base_uri": "https://localhost:8080/"
        },
        "id": "NxKeTpNED7nH",
        "outputId": "8f6c41fc-0b75-462d-c2d3-e2d1e0af8435"
      },
      "execution_count": 3,
      "outputs": [
        {
          "output_type": "execute_result",
          "data": {
            "text/plain": [
              "list"
            ]
          },
          "metadata": {},
          "execution_count": 3
        }
      ]
    },
    {
      "cell_type": "code",
      "source": [
        "indice = lista.index(1)"
      ],
      "metadata": {
        "id": "Ziqzy_J-D81I"
      },
      "execution_count": 5,
      "outputs": []
    },
    {
      "cell_type": "code",
      "source": [
        "lista[indice]=\"Cambiado\"\n",
        "lista"
      ],
      "metadata": {
        "colab": {
          "base_uri": "https://localhost:8080/"
        },
        "id": "dOneLhEIEFDU",
        "outputId": "7d0bd217-9a1f-4950-8d73-eee62c701f05"
      },
      "execution_count": 12,
      "outputs": [
        {
          "output_type": "execute_result",
          "data": {
            "text/plain": [
              "['Cambiado', 3, 4, 5, 2, 1, False, 'Hola', 2, 4, 5, 2, 2, 4, 5, 2, 1, 3, 4]"
            ]
          },
          "metadata": {},
          "execution_count": 12
        }
      ]
    },
    {
      "cell_type": "code",
      "source": [
        "lista.count(5)"
      ],
      "metadata": {
        "colab": {
          "base_uri": "https://localhost:8080/"
        },
        "id": "7uoWC66tEWR4",
        "outputId": "13bf6aa6-de3d-4810-9e8a-2165d69849a9"
      },
      "execution_count": 9,
      "outputs": [
        {
          "output_type": "execute_result",
          "data": {
            "text/plain": [
              "3"
            ]
          },
          "metadata": {},
          "execution_count": 9
        }
      ]
    },
    {
      "cell_type": "code",
      "source": [
        "lista[3]"
      ],
      "metadata": {
        "colab": {
          "base_uri": "https://localhost:8080/"
        },
        "id": "JXZayMR4En0v",
        "outputId": "eeb3b102-1bc4-4685-d3a9-11a2781b6be0"
      },
      "execution_count": 10,
      "outputs": [
        {
          "output_type": "execute_result",
          "data": {
            "text/plain": [
              "5"
            ]
          },
          "metadata": {},
          "execution_count": 10
        }
      ]
    },
    {
      "cell_type": "code",
      "source": [
        "lista[2:]"
      ],
      "metadata": {
        "colab": {
          "base_uri": "https://localhost:8080/"
        },
        "id": "PDQ8CSaMEtfZ",
        "outputId": "b7a99240-e52c-4fc1-b8b0-3788b3888a1d"
      },
      "execution_count": 11,
      "outputs": [
        {
          "output_type": "execute_result",
          "data": {
            "text/plain": [
              "[4, 5, 2, 1, False, 'Hola', 2, 4, 5, 2, 2, 4, 5, 2, 1, 3, 4]"
            ]
          },
          "metadata": {},
          "execution_count": 11
        }
      ]
    },
    {
      "cell_type": "code",
      "source": [
        "lista[:2]"
      ],
      "metadata": {
        "colab": {
          "base_uri": "https://localhost:8080/"
        },
        "id": "ZU_Gp6RPE0ld",
        "outputId": "87c91bd4-9fb2-4448-db34-0b38c19f5e98"
      },
      "execution_count": 13,
      "outputs": [
        {
          "output_type": "execute_result",
          "data": {
            "text/plain": [
              "['Cambiado', 3]"
            ]
          },
          "metadata": {},
          "execution_count": 13
        }
      ]
    },
    {
      "cell_type": "code",
      "source": [
        "lista[-2]"
      ],
      "metadata": {
        "colab": {
          "base_uri": "https://localhost:8080/"
        },
        "id": "9yx70avLFCJ1",
        "outputId": "8e45abe5-d566-4271-ebc8-84d36453d3f7"
      },
      "execution_count": 14,
      "outputs": [
        {
          "output_type": "execute_result",
          "data": {
            "text/plain": [
              "3"
            ]
          },
          "metadata": {},
          "execution_count": 14
        }
      ]
    },
    {
      "cell_type": "code",
      "source": [
        "lista[::-1]"
      ],
      "metadata": {
        "colab": {
          "base_uri": "https://localhost:8080/"
        },
        "id": "lL-fg4lxFHV6",
        "outputId": "b5607f19-9bb7-489f-d468-959b7812fdd5"
      },
      "execution_count": 15,
      "outputs": [
        {
          "output_type": "execute_result",
          "data": {
            "text/plain": [
              "[4, 3, 1, 2, 5, 4, 2, 2, 5, 4, 2, 'Hola', False, 1, 2, 5, 4, 3, 'Cambiado']"
            ]
          },
          "metadata": {},
          "execution_count": 15
        }
      ]
    },
    {
      "cell_type": "code",
      "source": [
        "lista"
      ],
      "metadata": {
        "colab": {
          "base_uri": "https://localhost:8080/"
        },
        "id": "rSU9e3WXFn5f",
        "outputId": "934fa1da-fb07-4a0c-876f-43e7f26ee7ab"
      },
      "execution_count": 17,
      "outputs": [
        {
          "output_type": "execute_result",
          "data": {
            "text/plain": [
              "['Cambiado', 3, 4, 5, 2, 1, False, 'Hola', 2, 4, 5, 2, 2, 4, 5, 2, 1, 3, 4]"
            ]
          },
          "metadata": {},
          "execution_count": 17
        }
      ]
    },
    {
      "cell_type": "code",
      "source": [
        "lista[1:9:2]"
      ],
      "metadata": {
        "colab": {
          "base_uri": "https://localhost:8080/"
        },
        "id": "B-fVaDPHFRxM",
        "outputId": "50be3055-0292-4f77-d7a5-6bda314581ef"
      },
      "execution_count": 18,
      "outputs": [
        {
          "output_type": "execute_result",
          "data": {
            "text/plain": [
              "[3, 5, 1, 'Hola']"
            ]
          },
          "metadata": {},
          "execution_count": 18
        }
      ]
    },
    {
      "cell_type": "code",
      "source": [
        "lista*3"
      ],
      "metadata": {
        "colab": {
          "base_uri": "https://localhost:8080/"
        },
        "id": "27KtGO7QFWu2",
        "outputId": "9f113b4e-59fc-4d0d-f9a7-da6ebe725656"
      },
      "execution_count": 19,
      "outputs": [
        {
          "output_type": "execute_result",
          "data": {
            "text/plain": [
              "['Cambiado',\n",
              " 3,\n",
              " 4,\n",
              " 5,\n",
              " 2,\n",
              " 1,\n",
              " False,\n",
              " 'Hola',\n",
              " 2,\n",
              " 4,\n",
              " 5,\n",
              " 2,\n",
              " 2,\n",
              " 4,\n",
              " 5,\n",
              " 2,\n",
              " 1,\n",
              " 3,\n",
              " 4,\n",
              " 'Cambiado',\n",
              " 3,\n",
              " 4,\n",
              " 5,\n",
              " 2,\n",
              " 1,\n",
              " False,\n",
              " 'Hola',\n",
              " 2,\n",
              " 4,\n",
              " 5,\n",
              " 2,\n",
              " 2,\n",
              " 4,\n",
              " 5,\n",
              " 2,\n",
              " 1,\n",
              " 3,\n",
              " 4,\n",
              " 'Cambiado',\n",
              " 3,\n",
              " 4,\n",
              " 5,\n",
              " 2,\n",
              " 1,\n",
              " False,\n",
              " 'Hola',\n",
              " 2,\n",
              " 4,\n",
              " 5,\n",
              " 2,\n",
              " 2,\n",
              " 4,\n",
              " 5,\n",
              " 2,\n",
              " 1,\n",
              " 3,\n",
              " 4]"
            ]
          },
          "metadata": {},
          "execution_count": 19
        }
      ]
    },
    {
      "cell_type": "code",
      "source": [
        "lista+[23]"
      ],
      "metadata": {
        "colab": {
          "base_uri": "https://localhost:8080/"
        },
        "id": "7IiPRy87F6IX",
        "outputId": "4ed217d5-1436-424c-b764-2e3d4f964fb8"
      },
      "execution_count": 20,
      "outputs": [
        {
          "output_type": "execute_result",
          "data": {
            "text/plain": [
              "['Cambiado', 3, 4, 5, 2, 1, False, 'Hola', 2, 4, 5, 2, 2, 4, 5, 2, 1, 3, 4, 23]"
            ]
          },
          "metadata": {},
          "execution_count": 20
        }
      ]
    },
    {
      "cell_type": "code",
      "source": [
        "lista.append('Mi nombre')"
      ],
      "metadata": {
        "id": "2FAaVEOtGC5E"
      },
      "execution_count": 21,
      "outputs": []
    },
    {
      "cell_type": "code",
      "source": [
        "lista\n"
      ],
      "metadata": {
        "colab": {
          "base_uri": "https://localhost:8080/"
        },
        "id": "Bg-LWwJmGJnv",
        "outputId": "6f229090-2da4-4c29-d3d4-22dd8ab5c33c"
      },
      "execution_count": 22,
      "outputs": [
        {
          "output_type": "execute_result",
          "data": {
            "text/plain": [
              "['Cambiado',\n",
              " 3,\n",
              " 4,\n",
              " 5,\n",
              " 2,\n",
              " 1,\n",
              " False,\n",
              " 'Hola',\n",
              " 2,\n",
              " 4,\n",
              " 5,\n",
              " 2,\n",
              " 2,\n",
              " 4,\n",
              " 5,\n",
              " 2,\n",
              " 1,\n",
              " 3,\n",
              " 4,\n",
              " 'Mi nombre']"
            ]
          },
          "metadata": {},
          "execution_count": 22
        }
      ]
    },
    {
      "cell_type": "code",
      "source": [
        "lista.extend([221,321])\n",
        "lista"
      ],
      "metadata": {
        "colab": {
          "base_uri": "https://localhost:8080/"
        },
        "id": "4vXgPTw6GKlO",
        "outputId": "92d23134-112e-4c5c-e030-a32734d680a3"
      },
      "execution_count": 23,
      "outputs": [
        {
          "output_type": "execute_result",
          "data": {
            "text/plain": [
              "['Cambiado',\n",
              " 3,\n",
              " 4,\n",
              " 5,\n",
              " 2,\n",
              " 1,\n",
              " False,\n",
              " 'Hola',\n",
              " 2,\n",
              " 4,\n",
              " 5,\n",
              " 2,\n",
              " 2,\n",
              " 4,\n",
              " 5,\n",
              " 2,\n",
              " 1,\n",
              " 3,\n",
              " 4,\n",
              " 'Mi nombre',\n",
              " 221,\n",
              " 321]"
            ]
          },
          "metadata": {},
          "execution_count": 23
        }
      ]
    },
    {
      "cell_type": "code",
      "source": [
        "lista.insert(3,'otro texto')\n",
        "lista"
      ],
      "metadata": {
        "colab": {
          "base_uri": "https://localhost:8080/"
        },
        "id": "nBa8sryZGVxE",
        "outputId": "511dc807-d574-4a27-bea0-b01b9c8c635a"
      },
      "execution_count": 24,
      "outputs": [
        {
          "output_type": "execute_result",
          "data": {
            "text/plain": [
              "['Cambiado',\n",
              " 3,\n",
              " 4,\n",
              " 'otro texto',\n",
              " 5,\n",
              " 2,\n",
              " 1,\n",
              " False,\n",
              " 'Hola',\n",
              " 2,\n",
              " 4,\n",
              " 5,\n",
              " 2,\n",
              " 2,\n",
              " 4,\n",
              " 5,\n",
              " 2,\n",
              " 1,\n",
              " 3,\n",
              " 4,\n",
              " 'Mi nombre',\n",
              " 221,\n",
              " 321]"
            ]
          },
          "metadata": {},
          "execution_count": 24
        }
      ]
    },
    {
      "cell_type": "code",
      "source": [
        "# Copia lista\n",
        "nueva_lista = lista.copy()\n",
        "nueva_lista"
      ],
      "metadata": {
        "colab": {
          "base_uri": "https://localhost:8080/"
        },
        "id": "OnEsG7fUGgEl",
        "outputId": "2f513366-1776-4a1b-ee53-b0ccef4817c4"
      },
      "execution_count": 25,
      "outputs": [
        {
          "output_type": "execute_result",
          "data": {
            "text/plain": [
              "['Cambiado',\n",
              " 3,\n",
              " 4,\n",
              " 'otro texto',\n",
              " 5,\n",
              " 2,\n",
              " 1,\n",
              " False,\n",
              " 'Hola',\n",
              " 2,\n",
              " 4,\n",
              " 5,\n",
              " 2,\n",
              " 2,\n",
              " 4,\n",
              " 5,\n",
              " 2,\n",
              " 1,\n",
              " 3,\n",
              " 4,\n",
              " 'Mi nombre',\n",
              " 221,\n",
              " 321]"
            ]
          },
          "metadata": {},
          "execution_count": 25
        }
      ]
    },
    {
      "cell_type": "code",
      "source": [
        "nueva_lista == lista"
      ],
      "metadata": {
        "colab": {
          "base_uri": "https://localhost:8080/"
        },
        "id": "n_y9VeH-GrKS",
        "outputId": "6c0974af-45a1-4476-d1e1-a2d1d26b9a3e"
      },
      "execution_count": 26,
      "outputs": [
        {
          "output_type": "execute_result",
          "data": {
            "text/plain": [
              "True"
            ]
          },
          "metadata": {},
          "execution_count": 26
        }
      ]
    },
    {
      "cell_type": "code",
      "source": [
        "lista.pop()"
      ],
      "metadata": {
        "colab": {
          "base_uri": "https://localhost:8080/"
        },
        "id": "o54X8G7qGzeY",
        "outputId": "ead2d095-a856-450c-bff8-5a5d061dd902"
      },
      "execution_count": 27,
      "outputs": [
        {
          "output_type": "execute_result",
          "data": {
            "text/plain": [
              "321"
            ]
          },
          "metadata": {},
          "execution_count": 27
        }
      ]
    },
    {
      "cell_type": "code",
      "source": [
        "lista.pop(3)"
      ],
      "metadata": {
        "colab": {
          "base_uri": "https://localhost:8080/",
          "height": 36
        },
        "id": "xWLgmk_oG8vG",
        "outputId": "80c65654-f747-4297-c46a-2ea791b26a70"
      },
      "execution_count": 28,
      "outputs": [
        {
          "output_type": "execute_result",
          "data": {
            "text/plain": [
              "'otro texto'"
            ],
            "application/vnd.google.colaboratory.intrinsic+json": {
              "type": "string"
            }
          },
          "metadata": {},
          "execution_count": 28
        }
      ]
    },
    {
      "cell_type": "code",
      "source": [
        "lista.remove('Cambiado')"
      ],
      "metadata": {
        "id": "BeXQSaYNHDsP"
      },
      "execution_count": 29,
      "outputs": []
    },
    {
      "cell_type": "code",
      "source": [
        "lista"
      ],
      "metadata": {
        "colab": {
          "base_uri": "https://localhost:8080/"
        },
        "id": "Pt0srQYMHNS4",
        "outputId": "296bec24-27b5-491e-bd42-5e30215bd4bc"
      },
      "execution_count": 30,
      "outputs": [
        {
          "output_type": "execute_result",
          "data": {
            "text/plain": [
              "[3,\n",
              " 4,\n",
              " 5,\n",
              " 2,\n",
              " 1,\n",
              " False,\n",
              " 'Hola',\n",
              " 2,\n",
              " 4,\n",
              " 5,\n",
              " 2,\n",
              " 2,\n",
              " 4,\n",
              " 5,\n",
              " 2,\n",
              " 1,\n",
              " 3,\n",
              " 4,\n",
              " 'Mi nombre',\n",
              " 221]"
            ]
          },
          "metadata": {},
          "execution_count": 30
        }
      ]
    },
    {
      "cell_type": "code",
      "source": [
        "del lista[1]\n",
        "lista"
      ],
      "metadata": {
        "colab": {
          "base_uri": "https://localhost:8080/"
        },
        "id": "ufma9H0OHOtV",
        "outputId": "311d1521-30ce-456b-ca25-358ca2b6568d"
      },
      "execution_count": 31,
      "outputs": [
        {
          "output_type": "execute_result",
          "data": {
            "text/plain": [
              "[3, 5, 2, 1, False, 'Hola', 2, 4, 5, 2, 2, 4, 5, 2, 1, 3, 4, 'Mi nombre', 221]"
            ]
          },
          "metadata": {},
          "execution_count": 31
        }
      ]
    },
    {
      "cell_type": "code",
      "source": [
        "del lista\n",
        "lista"
      ],
      "metadata": {
        "colab": {
          "base_uri": "https://localhost:8080/",
          "height": 189
        },
        "id": "wuJXQ7A1HbXx",
        "outputId": "544571e9-4af6-4325-f1f1-b939c92fdd7c"
      },
      "execution_count": 32,
      "outputs": [
        {
          "output_type": "error",
          "ename": "NameError",
          "evalue": "ignored",
          "traceback": [
            "\u001b[0;31m---------------------------------------------------------------------------\u001b[0m",
            "\u001b[0;31mNameError\u001b[0m                                 Traceback (most recent call last)",
            "\u001b[0;32m<ipython-input-32-3ceced437e29>\u001b[0m in \u001b[0;36m<module>\u001b[0;34m\u001b[0m\n\u001b[1;32m      1\u001b[0m \u001b[0;32mdel\u001b[0m \u001b[0mlista\u001b[0m\u001b[0;34m\u001b[0m\u001b[0;34m\u001b[0m\u001b[0m\n\u001b[0;32m----> 2\u001b[0;31m \u001b[0mlista\u001b[0m\u001b[0;34m\u001b[0m\u001b[0;34m\u001b[0m\u001b[0m\n\u001b[0m",
            "\u001b[0;31mNameError\u001b[0m: name 'lista' is not defined"
          ]
        }
      ]
    },
    {
      "cell_type": "code",
      "source": [
        "nueva_lista = [1,2,3,4,5,3,2,56,2,1,4,5,2,9,10,11,23,43]\n",
        "nueva_lista"
      ],
      "metadata": {
        "colab": {
          "base_uri": "https://localhost:8080/"
        },
        "id": "4oEA2a1AHhzE",
        "outputId": "fd1f73bd-33cc-4985-dd0c-c495a0882690"
      },
      "execution_count": 33,
      "outputs": [
        {
          "output_type": "execute_result",
          "data": {
            "text/plain": [
              "[1, 2, 3, 4, 5, 3, 2, 56, 2, 1, 4, 5, 2, 9, 10, 11, 23, 43]"
            ]
          },
          "metadata": {},
          "execution_count": 33
        }
      ]
    },
    {
      "cell_type": "code",
      "source": [
        "nueva_lista.sort()\n",
        "nueva_lista"
      ],
      "metadata": {
        "colab": {
          "base_uri": "https://localhost:8080/"
        },
        "id": "pihmSinWH67t",
        "outputId": "ffcd6042-0729-4104-b37b-18ae31adccb7"
      },
      "execution_count": 35,
      "outputs": [
        {
          "output_type": "execute_result",
          "data": {
            "text/plain": [
              "[1, 1, 2, 2, 2, 2, 3, 3, 4, 4, 5, 5, 9, 10, 11, 23, 43, 56]"
            ]
          },
          "metadata": {},
          "execution_count": 35
        }
      ]
    },
    {
      "cell_type": "code",
      "source": [
        "nueva_lista.sort(reverse=True)\n",
        "nueva_lista"
      ],
      "metadata": {
        "colab": {
          "base_uri": "https://localhost:8080/"
        },
        "id": "_a2XkJBoH-h-",
        "outputId": "ddf94468-2edf-4922-997e-3f00a3d0209f"
      },
      "execution_count": 36,
      "outputs": [
        {
          "output_type": "execute_result",
          "data": {
            "text/plain": [
              "[56, 43, 23, 11, 10, 9, 5, 5, 4, 4, 3, 3, 2, 2, 2, 2, 1, 1]"
            ]
          },
          "metadata": {},
          "execution_count": 36
        }
      ]
    },
    {
      "cell_type": "code",
      "source": [
        "nueva_lista.reverse()\n",
        "nueva_lista"
      ],
      "metadata": {
        "colab": {
          "base_uri": "https://localhost:8080/"
        },
        "id": "eT4IiuciILv-",
        "outputId": "7e08ca41-e989-42a7-9c22-1d672b06bb90"
      },
      "execution_count": 37,
      "outputs": [
        {
          "output_type": "execute_result",
          "data": {
            "text/plain": [
              "[1, 1, 2, 2, 2, 2, 3, 3, 4, 4, 5, 5, 9, 10, 11, 23, 43, 56]"
            ]
          },
          "metadata": {},
          "execution_count": 37
        }
      ]
    },
    {
      "cell_type": "code",
      "source": [
        "sorted(nueva_lista)\n"
      ],
      "metadata": {
        "colab": {
          "base_uri": "https://localhost:8080/"
        },
        "id": "kb_wp7PCIQzy",
        "outputId": "3ec2c492-678b-4e73-f5c5-ec5659277b67"
      },
      "execution_count": 38,
      "outputs": [
        {
          "output_type": "execute_result",
          "data": {
            "text/plain": [
              "[1, 1, 2, 2, 2, 2, 3, 3, 4, 4, 5, 5, 9, 10, 11, 23, 43, 56]"
            ]
          },
          "metadata": {},
          "execution_count": 38
        }
      ]
    },
    {
      "cell_type": "code",
      "source": [
        "# Otras operaciones"
      ],
      "metadata": {
        "id": "UzpbOa7QIalE"
      },
      "execution_count": 39,
      "outputs": []
    },
    {
      "cell_type": "code",
      "source": [
        "2 in nueva_lista"
      ],
      "metadata": {
        "colab": {
          "base_uri": "https://localhost:8080/"
        },
        "id": "2Mci3v6RIjOb",
        "outputId": "20b2b326-932a-4a92-ee41-7c2d8e803583"
      },
      "execution_count": 40,
      "outputs": [
        {
          "output_type": "execute_result",
          "data": {
            "text/plain": [
              "True"
            ]
          },
          "metadata": {},
          "execution_count": 40
        }
      ]
    },
    {
      "cell_type": "code",
      "source": [
        "\"hola\" in nueva_lista"
      ],
      "metadata": {
        "colab": {
          "base_uri": "https://localhost:8080/"
        },
        "id": "48AsyVanIldH",
        "outputId": "200b6049-9cfd-42cb-c5d4-33e3df297fd5"
      },
      "execution_count": 41,
      "outputs": [
        {
          "output_type": "execute_result",
          "data": {
            "text/plain": [
              "False"
            ]
          },
          "metadata": {},
          "execution_count": 41
        }
      ]
    },
    {
      "cell_type": "code",
      "source": [
        "min(nueva_lista)"
      ],
      "metadata": {
        "colab": {
          "base_uri": "https://localhost:8080/"
        },
        "id": "ftqikH2rIrhm",
        "outputId": "c35a53d6-35f3-42bd-adfe-ab6107781ad3"
      },
      "execution_count": 42,
      "outputs": [
        {
          "output_type": "execute_result",
          "data": {
            "text/plain": [
              "1"
            ]
          },
          "metadata": {},
          "execution_count": 42
        }
      ]
    },
    {
      "cell_type": "code",
      "source": [
        "max(nueva_lista)"
      ],
      "metadata": {
        "colab": {
          "base_uri": "https://localhost:8080/"
        },
        "id": "YQ7Iwm9ZIvKm",
        "outputId": "8af3d38a-fcc1-461a-de69-06691ca6a65d"
      },
      "execution_count": 43,
      "outputs": [
        {
          "output_type": "execute_result",
          "data": {
            "text/plain": [
              "56"
            ]
          },
          "metadata": {},
          "execution_count": 43
        }
      ]
    },
    {
      "cell_type": "code",
      "source": [
        "sum(nueva_lista)"
      ],
      "metadata": {
        "colab": {
          "base_uri": "https://localhost:8080/"
        },
        "id": "DEVKyRbtIxCk",
        "outputId": "a2f21cd7-ee1a-420a-a72d-485d241ef926"
      },
      "execution_count": 44,
      "outputs": [
        {
          "output_type": "execute_result",
          "data": {
            "text/plain": [
              "186"
            ]
          },
          "metadata": {},
          "execution_count": 44
        }
      ]
    },
    {
      "cell_type": "code",
      "source": [
        "primero, *resto_numeros, ultimo = nueva_lista\n",
        "primero"
      ],
      "metadata": {
        "colab": {
          "base_uri": "https://localhost:8080/"
        },
        "id": "KELSJgRTI1x-",
        "outputId": "6ad84ab2-5b33-4326-f959-7678beca8771"
      },
      "execution_count": 48,
      "outputs": [
        {
          "output_type": "execute_result",
          "data": {
            "text/plain": [
              "1"
            ]
          },
          "metadata": {},
          "execution_count": 48
        }
      ]
    },
    {
      "cell_type": "code",
      "source": [
        "resto_numeros"
      ],
      "metadata": {
        "colab": {
          "base_uri": "https://localhost:8080/"
        },
        "id": "Td671LP5JEAA",
        "outputId": "f16ad627-e338-4302-a478-f94e7a8f98f1"
      },
      "execution_count": 49,
      "outputs": [
        {
          "output_type": "execute_result",
          "data": {
            "text/plain": [
              "[1, 2, 2, 2, 2, 3, 3, 4, 4, 5, 5, 9, 10, 11, 23, 43]"
            ]
          },
          "metadata": {},
          "execution_count": 49
        }
      ]
    },
    {
      "cell_type": "code",
      "source": [
        "ultimo"
      ],
      "metadata": {
        "colab": {
          "base_uri": "https://localhost:8080/"
        },
        "id": "QYOLOkPrJFWi",
        "outputId": "5ba347af-9e1f-4b81-bd1e-2a4f2d4fe030"
      },
      "execution_count": 47,
      "outputs": [
        {
          "output_type": "execute_result",
          "data": {
            "text/plain": [
              "56"
            ]
          },
          "metadata": {},
          "execution_count": 47
        }
      ]
    },
    {
      "cell_type": "code",
      "source": [
        "# Creamos lista de numeros\n",
        "lista = []\n",
        "lista = [x**3 for x in range(1,20)]\n",
        "lista"
      ],
      "metadata": {
        "colab": {
          "base_uri": "https://localhost:8080/"
        },
        "id": "LNK9n0aWJHON",
        "outputId": "a2aecba5-4e61-41e7-b7a2-a2fd29d9d64a"
      },
      "execution_count": 50,
      "outputs": [
        {
          "output_type": "execute_result",
          "data": {
            "text/plain": [
              "[1,\n",
              " 8,\n",
              " 27,\n",
              " 64,\n",
              " 125,\n",
              " 216,\n",
              " 343,\n",
              " 512,\n",
              " 729,\n",
              " 1000,\n",
              " 1331,\n",
              " 1728,\n",
              " 2197,\n",
              " 2744,\n",
              " 3375,\n",
              " 4096,\n",
              " 4913,\n",
              " 5832,\n",
              " 6859]"
            ]
          },
          "metadata": {},
          "execution_count": 50
        }
      ]
    },
    {
      "cell_type": "code",
      "source": [
        "# recorrer valores lista\n",
        "lista_multiplicada=[]\n",
        "for elemento in lista:\n",
        "  print(elemento)\n",
        "  lista_multiplicada.append((elemento*2))\n",
        "lista_multiplicada"
      ],
      "metadata": {
        "colab": {
          "base_uri": "https://localhost:8080/"
        },
        "id": "1R3823yAJhPc",
        "outputId": "4a38fc39-7f65-4f6b-b040-67ab490c6efb"
      },
      "execution_count": 52,
      "outputs": [
        {
          "output_type": "stream",
          "name": "stdout",
          "text": [
            "1\n",
            "8\n",
            "27\n",
            "64\n",
            "125\n",
            "216\n",
            "343\n",
            "512\n",
            "729\n",
            "1000\n",
            "1331\n",
            "1728\n",
            "2197\n",
            "2744\n",
            "3375\n",
            "4096\n",
            "4913\n",
            "5832\n",
            "6859\n"
          ]
        },
        {
          "output_type": "execute_result",
          "data": {
            "text/plain": [
              "[2,\n",
              " 16,\n",
              " 54,\n",
              " 128,\n",
              " 250,\n",
              " 432,\n",
              " 686,\n",
              " 1024,\n",
              " 1458,\n",
              " 2000,\n",
              " 2662,\n",
              " 3456,\n",
              " 4394,\n",
              " 5488,\n",
              " 6750,\n",
              " 8192,\n",
              " 9826,\n",
              " 11664,\n",
              " 13718]"
            ]
          },
          "metadata": {},
          "execution_count": 52
        }
      ]
    },
    {
      "cell_type": "code",
      "source": [],
      "metadata": {
        "id": "awnmzCANJzMO"
      },
      "execution_count": null,
      "outputs": []
    }
  ]
}