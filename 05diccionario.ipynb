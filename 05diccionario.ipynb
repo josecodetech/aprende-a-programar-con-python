{
  "nbformat": 4,
  "nbformat_minor": 0,
  "metadata": {
    "colab": {
      "provenance": []
    },
    "kernelspec": {
      "name": "python3",
      "display_name": "Python 3"
    },
    "language_info": {
      "name": "python"
    }
  },
  "cells": [
    {
      "cell_type": "markdown",
      "source": [
        "#Diccionarios"
      ],
      "metadata": {
        "id": "sIxVskdpJOVR"
      }
    },
    {
      "cell_type": "code",
      "execution_count": 1,
      "metadata": {
        "colab": {
          "base_uri": "https://localhost:8080/"
        },
        "id": "XKlyfWINJLwk",
        "outputId": "ce849920-5b04-4db8-b1b1-ffd30c424cd6"
      },
      "outputs": [
        {
          "output_type": "execute_result",
          "data": {
            "text/plain": [
              "{'nombre': 'Jose', 'apellidos': 'Ojeda', 'pais': 'España'}"
            ]
          },
          "metadata": {},
          "execution_count": 1
        }
      ],
      "source": [
        "diccionario = {'nombre':'Jose','apellidos':'Ojeda','pais':'España'}\n",
        "diccionario"
      ]
    },
    {
      "cell_type": "code",
      "source": [
        "len(diccionario)"
      ],
      "metadata": {
        "colab": {
          "base_uri": "https://localhost:8080/"
        },
        "id": "BUwsHPixJQPn",
        "outputId": "be8f4f86-a5ea-45be-f315-b28e4257cdde"
      },
      "execution_count": 2,
      "outputs": [
        {
          "output_type": "execute_result",
          "data": {
            "text/plain": [
              "3"
            ]
          },
          "metadata": {},
          "execution_count": 2
        }
      ]
    },
    {
      "cell_type": "code",
      "source": [
        "diccionario.keys()"
      ],
      "metadata": {
        "colab": {
          "base_uri": "https://localhost:8080/"
        },
        "id": "rRwsYI8yJtNw",
        "outputId": "1c5c69ac-97e2-4dfe-c6a5-dfac0577d070"
      },
      "execution_count": 3,
      "outputs": [
        {
          "output_type": "execute_result",
          "data": {
            "text/plain": [
              "dict_keys(['nombre', 'apellidos', 'pais'])"
            ]
          },
          "metadata": {},
          "execution_count": 3
        }
      ]
    },
    {
      "cell_type": "code",
      "source": [
        "diccionario.values()"
      ],
      "metadata": {
        "colab": {
          "base_uri": "https://localhost:8080/"
        },
        "id": "jjO9m2VjJ4VJ",
        "outputId": "64938c3c-128c-40e0-f5fb-d419e9f1f389"
      },
      "execution_count": 4,
      "outputs": [
        {
          "output_type": "execute_result",
          "data": {
            "text/plain": [
              "dict_values(['Jose', 'Ojeda', 'España'])"
            ]
          },
          "metadata": {},
          "execution_count": 4
        }
      ]
    },
    {
      "cell_type": "code",
      "source": [
        "list(diccionario.values())"
      ],
      "metadata": {
        "colab": {
          "base_uri": "https://localhost:8080/"
        },
        "id": "jOMbyH2yJ82_",
        "outputId": "d14639a3-ea89-4d74-896b-b97e6c8c01fa"
      },
      "execution_count": 5,
      "outputs": [
        {
          "output_type": "execute_result",
          "data": {
            "text/plain": [
              "['Jose', 'Ojeda', 'España']"
            ]
          },
          "metadata": {},
          "execution_count": 5
        }
      ]
    },
    {
      "cell_type": "code",
      "source": [
        "diccionario.items()"
      ],
      "metadata": {
        "colab": {
          "base_uri": "https://localhost:8080/"
        },
        "id": "cVZlhpgPKBA6",
        "outputId": "f7e7e1e7-4482-411a-b613-4a8f28fc63f9"
      },
      "execution_count": 6,
      "outputs": [
        {
          "output_type": "execute_result",
          "data": {
            "text/plain": [
              "dict_items([('nombre', 'Jose'), ('apellidos', 'Ojeda'), ('pais', 'España')])"
            ]
          },
          "metadata": {},
          "execution_count": 6
        }
      ]
    },
    {
      "cell_type": "code",
      "source": [
        "del diccionario['pais']\n",
        "diccionario"
      ],
      "metadata": {
        "colab": {
          "base_uri": "https://localhost:8080/"
        },
        "id": "zACtSMCyKIF9",
        "outputId": "d0e6253d-5e4f-4361-dc32-a125b93e3c5c"
      },
      "execution_count": 7,
      "outputs": [
        {
          "output_type": "execute_result",
          "data": {
            "text/plain": [
              "{'nombre': 'Jose', 'apellidos': 'Ojeda'}"
            ]
          },
          "metadata": {},
          "execution_count": 7
        }
      ]
    },
    {
      "cell_type": "code",
      "source": [
        "diccionario.pop('apellidos',None)"
      ],
      "metadata": {
        "colab": {
          "base_uri": "https://localhost:8080/",
          "height": 36
        },
        "id": "bqrgv21PKTjJ",
        "outputId": "313c9385-1f31-42dc-ac2b-a8ce791bcb53"
      },
      "execution_count": 8,
      "outputs": [
        {
          "output_type": "execute_result",
          "data": {
            "text/plain": [
              "'Ojeda'"
            ],
            "application/vnd.google.colaboratory.intrinsic+json": {
              "type": "string"
            }
          },
          "metadata": {},
          "execution_count": 8
        }
      ]
    },
    {
      "cell_type": "code",
      "source": [
        "diccionario\n"
      ],
      "metadata": {
        "colab": {
          "base_uri": "https://localhost:8080/"
        },
        "id": "oIrmZZzOKejO",
        "outputId": "66536494-02a1-4665-c7b1-2e995f8b442a"
      },
      "execution_count": 9,
      "outputs": [
        {
          "output_type": "execute_result",
          "data": {
            "text/plain": [
              "{'nombre': 'Jose'}"
            ]
          },
          "metadata": {},
          "execution_count": 9
        }
      ]
    },
    {
      "cell_type": "code",
      "source": [
        "# actualizar\n",
        "diccionario.update({'pais':'Desconocido'})\n",
        "diccionario"
      ],
      "metadata": {
        "colab": {
          "base_uri": "https://localhost:8080/"
        },
        "id": "7tDVC8fsKhp0",
        "outputId": "bf695ab6-2acd-4caf-feb1-4658f6649a09"
      },
      "execution_count": 10,
      "outputs": [
        {
          "output_type": "execute_result",
          "data": {
            "text/plain": [
              "{'nombre': 'Jose', 'pais': 'Desconocido'}"
            ]
          },
          "metadata": {},
          "execution_count": 10
        }
      ]
    },
    {
      "cell_type": "code",
      "source": [
        "diccionario02 = dict([['nombre','Lucia'],['pais','España']])\n",
        "diccionario02"
      ],
      "metadata": {
        "colab": {
          "base_uri": "https://localhost:8080/"
        },
        "id": "N5TCvw4bKx3w",
        "outputId": "4919dac4-1ff4-44b1-ca77-087d4a742fab"
      },
      "execution_count": 12,
      "outputs": [
        {
          "output_type": "execute_result",
          "data": {
            "text/plain": [
              "{'nombre': 'Lucia', 'pais': 'España'}"
            ]
          },
          "metadata": {},
          "execution_count": 12
        }
      ]
    },
    {
      "cell_type": "code",
      "source": [
        "diccionario03 = dict(zip(['nombre','pais'],['Eva','Francia']))\n",
        "diccionario03"
      ],
      "metadata": {
        "colab": {
          "base_uri": "https://localhost:8080/"
        },
        "id": "298rpb7LLKHL",
        "outputId": "0ba39fd2-7c70-4624-a10d-b56d515d5172"
      },
      "execution_count": 13,
      "outputs": [
        {
          "output_type": "execute_result",
          "data": {
            "text/plain": [
              "{'nombre': 'Eva', 'pais': 'Francia'}"
            ]
          },
          "metadata": {},
          "execution_count": 13
        }
      ]
    },
    {
      "cell_type": "code",
      "source": [
        "type(diccionario03)"
      ],
      "metadata": {
        "colab": {
          "base_uri": "https://localhost:8080/"
        },
        "id": "4NW1NMjyLslh",
        "outputId": "5911fe99-1bdc-4758-b428-8020e9ee82f6"
      },
      "execution_count": 14,
      "outputs": [
        {
          "output_type": "execute_result",
          "data": {
            "text/plain": [
              "dict"
            ]
          },
          "metadata": {},
          "execution_count": 14
        }
      ]
    },
    {
      "cell_type": "code",
      "source": [
        "diccionario['nombre']"
      ],
      "metadata": {
        "colab": {
          "base_uri": "https://localhost:8080/",
          "height": 36
        },
        "id": "PTetVujQLwFb",
        "outputId": "ff6fdb13-8f77-46bd-c1d2-f0d6f8e00f3b"
      },
      "execution_count": 15,
      "outputs": [
        {
          "output_type": "execute_result",
          "data": {
            "text/plain": [
              "'Jose'"
            ],
            "application/vnd.google.colaboratory.intrinsic+json": {
              "type": "string"
            }
          },
          "metadata": {},
          "execution_count": 15
        }
      ]
    },
    {
      "cell_type": "code",
      "source": [
        "diccionario['nombre'] = 'M Mar'\n",
        "diccionario"
      ],
      "metadata": {
        "colab": {
          "base_uri": "https://localhost:8080/"
        },
        "id": "6lenjPNmL6Dk",
        "outputId": "997f7a95-1857-40c9-f4c4-0b90c46cb452"
      },
      "execution_count": 16,
      "outputs": [
        {
          "output_type": "execute_result",
          "data": {
            "text/plain": [
              "{'nombre': 'M Mar', 'pais': 'Desconocido'}"
            ]
          },
          "metadata": {},
          "execution_count": 16
        }
      ]
    },
    {
      "cell_type": "code",
      "source": [
        "# recorrer valores diccionario\n",
        "for clave, valor in diccionario02.items():\n",
        "  print(clave)\n",
        "  print(valor+'\\n')"
      ],
      "metadata": {
        "colab": {
          "base_uri": "https://localhost:8080/"
        },
        "id": "FmEWgSrSMDU_",
        "outputId": "da46cbb4-de68-4372-a2c9-cfd2378111fa"
      },
      "execution_count": 17,
      "outputs": [
        {
          "output_type": "stream",
          "name": "stdout",
          "text": [
            "nombre\n",
            "Lucia\n",
            "\n",
            "pais\n",
            "España\n",
            "\n"
          ]
        }
      ]
    },
    {
      "cell_type": "code",
      "source": [
        "for clave in diccionario02.keys():\n",
        "  print(clave)\n"
      ],
      "metadata": {
        "colab": {
          "base_uri": "https://localhost:8080/"
        },
        "id": "prs6E9TVMcbn",
        "outputId": "19de1af0-ad1e-458f-9aac-5deabc299432"
      },
      "execution_count": 18,
      "outputs": [
        {
          "output_type": "stream",
          "name": "stdout",
          "text": [
            "nombre\n",
            "pais\n"
          ]
        }
      ]
    },
    {
      "cell_type": "code",
      "source": [
        "for valor in diccionario02.values():\n",
        "  print(valor)"
      ],
      "metadata": {
        "colab": {
          "base_uri": "https://localhost:8080/"
        },
        "id": "W136AKnNMnhJ",
        "outputId": "17dcbd3d-102a-44ef-eadb-152ae4dd00f8"
      },
      "execution_count": 19,
      "outputs": [
        {
          "output_type": "stream",
          "name": "stdout",
          "text": [
            "Lucia\n",
            "España\n"
          ]
        }
      ]
    },
    {
      "cell_type": "code",
      "source": [],
      "metadata": {
        "id": "cRgzVZo2MufQ"
      },
      "execution_count": null,
      "outputs": []
    }
  ]
}