{
  "nbformat": 4,
  "nbformat_minor": 0,
  "metadata": {
    "colab": {
      "provenance": []
    },
    "kernelspec": {
      "name": "python3",
      "display_name": "Python 3"
    },
    "language_info": {
      "name": "python"
    }
  },
  "cells": [
    {
      "cell_type": "markdown",
      "source": [
        "Crea una clase Articulo con los atributos que consideres necesarios."
      ],
      "metadata": {
        "id": "n-402MFaEQpM"
      }
    },
    {
      "cell_type": "code",
      "execution_count": null,
      "metadata": {
        "id": "7lqvLRNODvjt"
      },
      "outputs": [],
      "source": [
        "\n"
      ]
    },
    {
      "cell_type": "code",
      "source": [],
      "metadata": {
        "id": "_jCM0KQCMpZt"
      },
      "execution_count": null,
      "outputs": []
    },
    {
      "cell_type": "markdown",
      "source": [
        "Define un metodo para la clase anterior donde simules una venta y reste la cantidad vendida de existencias."
      ],
      "metadata": {
        "id": "Hv1WxynoELs2"
      }
    },
    {
      "cell_type": "code",
      "source": [],
      "metadata": {
        "id": "qtDvCN_mJW1e"
      },
      "execution_count": null,
      "outputs": []
    },
    {
      "cell_type": "code",
      "source": [],
      "metadata": {
        "id": "6nPlc4KcMzga"
      },
      "execution_count": null,
      "outputs": []
    },
    {
      "cell_type": "markdown",
      "source": [
        "Crea una clase llamada Articulos_de_Oficina que herede de la clase anterior."
      ],
      "metadata": {
        "id": "zyhUhMxjJFEq"
      }
    },
    {
      "cell_type": "code",
      "source": [],
      "metadata": {
        "id": "MINB4MFdJYAs"
      },
      "execution_count": null,
      "outputs": []
    },
    {
      "cell_type": "code",
      "source": [],
      "metadata": {
        "id": "POA3vWRBNKKu"
      },
      "execution_count": null,
      "outputs": []
    },
    {
      "cell_type": "markdown",
      "source": [
        "Añade un metodo a la clase Articulos_de_Oficina que permita realizar devoluciones e incrementar existencias.\n"
      ],
      "metadata": {
        "id": "lnCLD3pnJYkx"
      }
    },
    {
      "cell_type": "code",
      "source": [],
      "metadata": {
        "id": "LzHAsFAkJqsL"
      },
      "execution_count": null,
      "outputs": []
    },
    {
      "cell_type": "code",
      "source": [],
      "metadata": {
        "id": "8TNcrKF1OCe2"
      },
      "execution_count": null,
      "outputs": []
    }
  ]
}