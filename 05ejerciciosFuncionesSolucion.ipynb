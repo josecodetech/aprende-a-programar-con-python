{
  "nbformat": 4,
  "nbformat_minor": 0,
  "metadata": {
    "colab": {
      "provenance": []
    },
    "kernelspec": {
      "name": "python3",
      "display_name": "Python 3"
    },
    "language_info": {
      "name": "python"
    }
  },
  "cells": [
    {
      "cell_type": "markdown",
      "source": [
        "Crea una funcion que muestre un saludo dandole el nombre por parametro."
      ],
      "metadata": {
        "id": "OGaXuHqsDa1a"
      }
    },
    {
      "cell_type": "code",
      "execution_count": 3,
      "metadata": {
        "id": "diR2tlblDXfK",
        "colab": {
          "base_uri": "https://localhost:8080/"
        },
        "outputId": "c3d84062-8c06-4dfd-bdfc-4f07a8cb378a"
      },
      "outputs": [
        {
          "output_type": "stream",
          "name": "stdout",
          "text": [
            "Hola, Jose\n"
          ]
        }
      ],
      "source": [
        "def saludo(nombre):\n",
        "  return f'Hola, {nombre}'\n",
        "print(saludo('Jose'))"
      ]
    },
    {
      "cell_type": "markdown",
      "source": [
        "Funcion que solicite al usuario nombre y edad para mostrarlos despues."
      ],
      "metadata": {
        "id": "dCWs6xcJD_Xt"
      }
    },
    {
      "cell_type": "code",
      "source": [
        "def datos():\n",
        "  nombre = input(\"Dime tu nombre -> \")\n",
        "  edad = int(input(\"Dime tu edad -> \"))\n",
        "  return f'Hola, {nombre}, tienes {edad} años'\n",
        "print(datos())"
      ],
      "metadata": {
        "id": "7xtb0lfTEFV4",
        "colab": {
          "base_uri": "https://localhost:8080/"
        },
        "outputId": "fa465f01-ae23-40ea-94ff-63ca1491394a"
      },
      "execution_count": 4,
      "outputs": [
        {
          "output_type": "stream",
          "name": "stdout",
          "text": [
            "Dime tu nombre -> Jose\n",
            "Dime tu edad -> 51\n",
            "Hola, Jose, tienes 51 años\n"
          ]
        }
      ]
    },
    {
      "cell_type": "markdown",
      "source": [
        "Funcion que reciba 2 numeros y los reste."
      ],
      "metadata": {
        "id": "hpSl0uNLEczy"
      }
    },
    {
      "cell_type": "code",
      "source": [
        "def restar(num1,num2):\n",
        "  return num1 - num2\n",
        "print(restar(75,63.2))"
      ],
      "metadata": {
        "id": "cadslZItEgcr",
        "colab": {
          "base_uri": "https://localhost:8080/"
        },
        "outputId": "578ea97d-fb61-40fc-c137-521d9a216a87"
      },
      "execution_count": 6,
      "outputs": [
        {
          "output_type": "stream",
          "name": "stdout",
          "text": [
            "11.799999999999997\n"
          ]
        }
      ]
    },
    {
      "cell_type": "code",
      "source": [],
      "metadata": {
        "id": "D17VuAktnP2B"
      },
      "execution_count": null,
      "outputs": []
    }
  ]
}