{
  "cells": [
    {
      "cell_type": "markdown",
      "metadata": {
        "id": "aTLHIoWDAuKV"
      },
      "source": [
        "Crea una funcion estandar para calcular el cuadrado de una lista de numeros."
      ]
    },
    {
      "cell_type": "code",
      "execution_count": 1,
      "metadata": {
        "id": "lA8jW74FAnpp",
        "colab": {
          "base_uri": "https://localhost:8080/"
        },
        "outputId": "e1e11197-8e3c-4687-b10e-4321436dd178"
      },
      "outputs": [
        {
          "output_type": "stream",
          "name": "stdout",
          "text": [
            "[0, 1, 4, 9, 16, 25, 36, 49, 64, 81, 100, 121, 144, 169, 196, 225, 256, 289, 324, 361, 400, 441, 484, 529, 576]\n"
          ]
        }
      ],
      "source": [
        "def dame_cuadrado(numero):\n",
        "  miLista = []\n",
        "  for i in range(numero):\n",
        "    miLista.append(i**2)\n",
        "  return miLista\n",
        "print(dame_cuadrado(25))"
      ]
    },
    {
      "cell_type": "markdown",
      "metadata": {
        "id": "IF7eHVNVBBBc"
      },
      "source": [
        "Crea la funcion anterior utilizando generadores."
      ]
    },
    {
      "cell_type": "code",
      "execution_count": 2,
      "metadata": {
        "id": "zLnZMg__BOJ0",
        "colab": {
          "base_uri": "https://localhost:8080/"
        },
        "outputId": "bb251022-b631-4104-9714-122fe18b1166"
      },
      "outputs": [
        {
          "output_type": "stream",
          "name": "stdout",
          "text": [
            "1\n",
            "4\n",
            "9\n",
            "16\n",
            "25\n",
            "36\n",
            "49\n",
            "64\n",
            "81\n",
            "100\n",
            "121\n",
            "144\n",
            "169\n",
            "196\n",
            "225\n",
            "256\n",
            "289\n",
            "324\n",
            "361\n",
            "400\n",
            "441\n",
            "484\n",
            "529\n",
            "576\n"
          ]
        }
      ],
      "source": [
        "def genera_cuadrado(numero):\n",
        "  num = 1\n",
        "  miLista=[]\n",
        "  while num<numero:\n",
        "    yield num**2\n",
        "    num=num+1\n",
        "for elemento in genera_cuadrado(25):\n",
        "  print(elemento)\n"
      ]
    },
    {
      "cell_type": "markdown",
      "metadata": {
        "id": "Yc3D4S2rSUXF"
      },
      "source": [
        "Devuelve el cuadrado de un numero utilizando map y lambda."
      ]
    },
    {
      "cell_type": "code",
      "execution_count": 5,
      "metadata": {
        "id": "d8zsFPdnBuYX",
        "colab": {
          "base_uri": "https://localhost:8080/"
        },
        "outputId": "804ae790-19cf-4fdc-f827-0082d68b1946"
      },
      "outputs": [
        {
          "output_type": "stream",
          "name": "stdout",
          "text": [
            "[4, 9, 25, 36, 441, 16, 36, 529, 4489]\n"
          ]
        }
      ],
      "source": [
        "numeros = [2,3,5,6,21,4,6,23,67]\n",
        "i = map(lambda x:x**2,numeros)\n",
        "print(list(i))"
      ]
    },
    {
      "cell_type": "code",
      "source": [],
      "metadata": {
        "id": "kwNSTG6knUL3"
      },
      "execution_count": null,
      "outputs": []
    }
  ],
  "metadata": {
    "colab": {
      "provenance": []
    },
    "kernelspec": {
      "display_name": "Python 3",
      "name": "python3"
    },
    "language_info": {
      "name": "python"
    }
  },
  "nbformat": 4,
  "nbformat_minor": 0
}