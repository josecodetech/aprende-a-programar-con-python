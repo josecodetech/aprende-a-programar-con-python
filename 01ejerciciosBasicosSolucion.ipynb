{
  "nbformat": 4,
  "nbformat_minor": 0,
  "metadata": {
    "colab": {
      "provenance": []
    },
    "kernelspec": {
      "name": "python3",
      "display_name": "Python 3"
    },
    "language_info": {
      "name": "python"
    }
  },
  "cells": [
    {
      "cell_type": "markdown",
      "source": [
        "1. Leer un numero por teclado, comprobar si es impar y volver a realizar el proceso hasta que el numero sea par"
      ],
      "metadata": {
        "id": "xX60l5yo7k-5"
      }
    },
    {
      "cell_type": "code",
      "execution_count": null,
      "metadata": {
        "id": "9hPApkto6zNx",
        "outputId": "2e3c2751-d03b-49ec-c0e1-1124df8b1813",
        "colab": {
          "base_uri": "https://localhost:8080/"
        }
      },
      "outputs": [
        {
          "output_type": "stream",
          "name": "stdout",
          "text": [
            "Introduce un numero par: 5\n",
            "El numero ingresado es impar, vuelve a ingresar de nuevo\n",
            "Introduce un numero par: 6\n",
            "El numero ingresado es par, terminamos\n"
          ]
        }
      ],
      "source": [
        "while True:\n",
        "  opcion = int(input(\"Introduce un numero par: \"))\n",
        "  if opcion % 2 != 0:\n",
        "    print(\"El numero ingresado es impar, vuelve a ingresar de nuevo\")\n",
        "  else:\n",
        "    print(\"El numero ingresado es par, terminamos\")\n",
        "    break"
      ]
    },
    {
      "cell_type": "markdown",
      "source": [
        "2. Realiza la media de los numeros que ingrese el usuario."
      ],
      "metadata": {
        "id": "b01KWQv680DK"
      }
    },
    {
      "cell_type": "code",
      "source": [
        "numeros = []\n",
        "while True:\n",
        "  num = int(input(\"Introduce varios numeros y te indicare la media (0 para terminar)\"))\n",
        "  if num!=0:\n",
        "    numeros.append(num)\n",
        "  else:\n",
        "    break\n",
        "print(\"La media de los numeros es = \", sum(numeros)/len(numeros))"
      ],
      "metadata": {
        "id": "Sy_xUyGP8kd1",
        "colab": {
          "base_uri": "https://localhost:8080/"
        },
        "outputId": "41591f05-7bf3-4490-ce86-d3ef464b3280"
      },
      "execution_count": 1,
      "outputs": [
        {
          "output_type": "stream",
          "name": "stdout",
          "text": [
            "Introduce varios numeros y te indicare la media (0 para terminar)6\n",
            "Introduce varios numeros y te indicare la media (0 para terminar)8\n",
            "Introduce varios numeros y te indicare la media (0 para terminar)7\n",
            "Introduce varios numeros y te indicare la media (0 para terminar)5\n",
            "Introduce varios numeros y te indicare la media (0 para terminar)25\n",
            "Introduce varios numeros y te indicare la media (0 para terminar)35\n",
            "Introduce varios numeros y te indicare la media (0 para terminar)68\n",
            "Introduce varios numeros y te indicare la media (0 para terminar)71\n",
            "Introduce varios numeros y te indicare la media (0 para terminar)2\n",
            "Introduce varios numeros y te indicare la media (0 para terminar)4\n",
            "Introduce varios numeros y te indicare la media (0 para terminar)0\n",
            "La media de los numeros es =  23.1\n"
          ]
        }
      ]
    },
    {
      "cell_type": "markdown",
      "source": [
        "3. Genera una lista con los numeros impares desde 11 a 31"
      ],
      "metadata": {
        "id": "bvaj4oOh9iaF"
      }
    },
    {
      "cell_type": "code",
      "source": [
        "print([x for x in range(11,32) if x%2!=0])"
      ],
      "metadata": {
        "id": "IFLny8l49vUb",
        "colab": {
          "base_uri": "https://localhost:8080/"
        },
        "outputId": "9600b0ed-dc1f-433b-a4ce-d1a4933c3462"
      },
      "execution_count": 2,
      "outputs": [
        {
          "output_type": "stream",
          "name": "stdout",
          "text": [
            "[11, 13, 15, 17, 19, 21, 23, 25, 27, 29, 31]\n"
          ]
        }
      ]
    },
    {
      "cell_type": "markdown",
      "source": [
        "4. Genera una lista con los numeros multiplos del 7 en un intervalo del 10 al 80"
      ],
      "metadata": {
        "id": "CEeaFT4x-IpI"
      }
    },
    {
      "cell_type": "code",
      "source": [
        "multiplos_7 = [x for x in range(10,81) if x%7==0]\n",
        "print(multiplos_7)"
      ],
      "metadata": {
        "id": "TfUt16D893s8",
        "colab": {
          "base_uri": "https://localhost:8080/"
        },
        "outputId": "2b2034e1-7478-4e03-9b5a-936da563f5f4"
      },
      "execution_count": 3,
      "outputs": [
        {
          "output_type": "stream",
          "name": "stdout",
          "text": [
            "[14, 21, 28, 35, 42, 49, 56, 63, 70, 77]\n"
          ]
        }
      ]
    },
    {
      "cell_type": "markdown",
      "source": [
        "5. Sumar todos los numeros enteros pares desde el 50 hasta el 100"
      ],
      "metadata": {
        "id": "1ijxiREiHc8Z"
      }
    },
    {
      "cell_type": "code",
      "source": [
        "numeros = []\n",
        "for i in range(50,101):\n",
        "  if i % 2 == 0:\n",
        "    numeros.append(i)\n",
        "print(numeros)\n",
        "print(sum(numeros))"
      ],
      "metadata": {
        "id": "VcodFRcP-byc",
        "colab": {
          "base_uri": "https://localhost:8080/"
        },
        "outputId": "8590e1d9-053e-40cb-b047-50844747688a"
      },
      "execution_count": 4,
      "outputs": [
        {
          "output_type": "stream",
          "name": "stdout",
          "text": [
            "[50, 52, 54, 56, 58, 60, 62, 64, 66, 68, 70, 72, 74, 76, 78, 80, 82, 84, 86, 88, 90, 92, 94, 96, 98, 100]\n",
            "1950\n"
          ]
        }
      ]
    },
    {
      "cell_type": "markdown",
      "source": [
        "6. Genera una lista con numeros al azar e indicar cuantas veces aparece un numero en dicha lista"
      ],
      "metadata": {
        "id": "VHP24rLSI6Sj"
      }
    },
    {
      "cell_type": "code",
      "source": [
        "import random"
      ],
      "metadata": {
        "id": "K9ZmvAioH6d6"
      },
      "execution_count": 5,
      "outputs": []
    },
    {
      "cell_type": "code",
      "source": [
        "lista = []\n",
        "#generamos 10 numeros\n",
        "for _ in range(0,10):\n",
        "  numero = random.randint(1,10)\n",
        "  lista.append(numero)\n",
        "print(lista)"
      ],
      "metadata": {
        "id": "0RZGmImDJ1lB",
        "colab": {
          "base_uri": "https://localhost:8080/"
        },
        "outputId": "e965859d-4015-4914-e856-73f522f0f3b0"
      },
      "execution_count": 11,
      "outputs": [
        {
          "output_type": "stream",
          "name": "stdout",
          "text": [
            "[2, 4, 3, 10, 9, 2, 2, 10, 7, 8]\n"
          ]
        }
      ]
    },
    {
      "cell_type": "code",
      "source": [
        "print(lista.count(2))"
      ],
      "metadata": {
        "id": "mC1Eek1wJ_6B",
        "colab": {
          "base_uri": "https://localhost:8080/"
        },
        "outputId": "e19b4485-9f6d-4581-f99d-72f3f027fa79"
      },
      "execution_count": 16,
      "outputs": [
        {
          "output_type": "stream",
          "name": "stdout",
          "text": [
            "3\n"
          ]
        }
      ]
    },
    {
      "cell_type": "code",
      "source": [
        "lista.count(10)"
      ],
      "metadata": {
        "colab": {
          "base_uri": "https://localhost:8080/"
        },
        "id": "QdU3F0Nxjzka",
        "outputId": "5081b9b4-ecc0-4b8a-e8ba-672bbe0b2219"
      },
      "execution_count": 17,
      "outputs": [
        {
          "output_type": "execute_result",
          "data": {
            "text/plain": [
              "2"
            ]
          },
          "metadata": {},
          "execution_count": 17
        }
      ]
    },
    {
      "cell_type": "code",
      "source": [],
      "metadata": {
        "id": "smCDCIJMj1gA"
      },
      "execution_count": null,
      "outputs": []
    }
  ]
}