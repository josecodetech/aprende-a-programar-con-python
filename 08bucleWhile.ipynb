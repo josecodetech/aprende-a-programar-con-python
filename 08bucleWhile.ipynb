{
  "nbformat": 4,
  "nbformat_minor": 0,
  "metadata": {
    "colab": {
      "provenance": []
    },
    "kernelspec": {
      "name": "python3",
      "display_name": "Python 3"
    },
    "language_info": {
      "name": "python"
    }
  },
  "cells": [
    {
      "cell_type": "code",
      "execution_count": null,
      "metadata": {
        "id": "rVcVsBOqeO0N"
      },
      "outputs": [],
      "source": []
    },
    {
      "cell_type": "markdown",
      "source": [
        "#Bucle While"
      ],
      "metadata": {
        "id": "vemH8zBpeRtm"
      }
    },
    {
      "cell_type": "code",
      "source": [
        "# tabla de multiplicar\n",
        "tablaDel = int(input(\"Que tabla quieres ver? \"))\n",
        "contador = 1\n",
        "print(\"Tabla del \"+str(tablaDel))\n",
        "# bucle\n",
        "while(contador<11):\n",
        "  resultado = tablaDel * contador  \n",
        "  print(str(tablaDel)+\" por \"+str(contador)+\" es igual a \"+str(resultado))\n",
        "  contador = contador + 1\n",
        "print(\"Fin de la tabla\")"
      ],
      "metadata": {
        "colab": {
          "base_uri": "https://localhost:8080/"
        },
        "id": "t-4Iumn2eTnd",
        "outputId": "0d269804-19fb-495f-9077-ebc0be0781d0"
      },
      "execution_count": 1,
      "outputs": [
        {
          "output_type": "stream",
          "name": "stdout",
          "text": [
            "Que tabla quieres ver? 8\n",
            "Tabla del 8\n",
            "8 por 1 es igual a 8\n",
            "8 por 2 es igual a 16\n",
            "8 por 3 es igual a 24\n",
            "8 por 4 es igual a 32\n",
            "8 por 5 es igual a 40\n",
            "8 por 6 es igual a 48\n",
            "8 por 7 es igual a 56\n",
            "8 por 8 es igual a 64\n",
            "8 por 9 es igual a 72\n",
            "8 por 10 es igual a 80\n",
            "Fin de la tabla\n"
          ]
        }
      ]
    },
    {
      "cell_type": "code",
      "source": [
        "# tabla de multiplicar\n",
        "tablaDel = int(input(\"Que tabla quieres ver? \"))\n",
        "contador = 1\n",
        "print(\"Tabla del \"+str(tablaDel))\n",
        "# bucle\n",
        "while(contador<11):\n",
        "  resultado = tablaDel * contador  \n",
        "  print(f'{tablaDel} por {contador} es igual a {resultado}')\n",
        "  contador = contador + 1\n",
        "print(\"Fin de la tabla\")"
      ],
      "metadata": {
        "colab": {
          "base_uri": "https://localhost:8080/"
        },
        "id": "RBrIZTDqfxEW",
        "outputId": "bb077162-0875-444f-96dd-8cf43eb01d3d"
      },
      "execution_count": 2,
      "outputs": [
        {
          "output_type": "stream",
          "name": "stdout",
          "text": [
            "Que tabla quieres ver? 7\n",
            "Tabla del 7\n",
            "7 por 1 es igual a 7\n",
            "7 por 2 es igual a 14\n",
            "7 por 3 es igual a 21\n",
            "7 por 4 es igual a 28\n",
            "7 por 5 es igual a 35\n",
            "7 por 6 es igual a 42\n",
            "7 por 7 es igual a 49\n",
            "7 por 8 es igual a 56\n",
            "7 por 9 es igual a 63\n",
            "7 por 10 es igual a 70\n",
            "Fin de la tabla\n"
          ]
        }
      ]
    },
    {
      "cell_type": "code",
      "source": [
        "# salir del bucle\n",
        "i = 1\n",
        "while i<= 6:\n",
        "  if i==4:\n",
        "    print(\"Salimos en el 4\")\n",
        "    break\n",
        "  print(i)\n",
        "  i=i+1\n",
        "print(\"Fin\")"
      ],
      "metadata": {
        "colab": {
          "base_uri": "https://localhost:8080/"
        },
        "id": "Uk7QA6AmgyAu",
        "outputId": "26615756-90e3-4c9e-d263-adc9b084a271"
      },
      "execution_count": 3,
      "outputs": [
        {
          "output_type": "stream",
          "name": "stdout",
          "text": [
            "1\n",
            "2\n",
            "3\n",
            "Salimos en el 4\n",
            "Fin\n"
          ]
        }
      ]
    },
    {
      "cell_type": "code",
      "source": [],
      "metadata": {
        "id": "j09sR-vphHC6"
      },
      "execution_count": null,
      "outputs": []
    }
  ]
}