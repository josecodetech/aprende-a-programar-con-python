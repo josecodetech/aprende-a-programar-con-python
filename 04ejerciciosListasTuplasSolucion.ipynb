{
  "nbformat": 4,
  "nbformat_minor": 0,
  "metadata": {
    "colab": {
      "provenance": []
    },
    "kernelspec": {
      "name": "python3",
      "display_name": "Python 3"
    },
    "language_info": {
      "name": "python"
    }
  },
  "cells": [
    {
      "cell_type": "markdown",
      "source": [
        "Almacena en una lista diferentes asignaturas y muestralas."
      ],
      "metadata": {
        "id": "rJJp4DI78In2"
      }
    },
    {
      "cell_type": "code",
      "execution_count": 2,
      "metadata": {
        "id": "zNOOS3zj8EVc",
        "colab": {
          "base_uri": "https://localhost:8080/"
        },
        "outputId": "e802ae31-67b7-4aa7-9f60-9ec586708147"
      },
      "outputs": [
        {
          "output_type": "execute_result",
          "data": {
            "text/plain": [
              "['matematicas', 'quimica', 'fisica', 'ingles', 'informatica']"
            ]
          },
          "metadata": {},
          "execution_count": 2
        }
      ],
      "source": [
        "asignaturas = ['matematicas','quimica','fisica','ingles','informatica']\n",
        "print(asignaturas)"
      ]
    },
    {
      "cell_type": "markdown",
      "source": [
        "Almacena nombres en una lista, muestra despues un mensaje saludando a cada persona."
      ],
      "metadata": {
        "id": "_QoMuadI8qsO"
      }
    },
    {
      "cell_type": "code",
      "source": [
        "personas = ['Jose','M Mar','Lucia','Eva']\n",
        "for persona in personas:\n",
        "  print(f\"Hola, {persona}\")"
      ],
      "metadata": {
        "id": "jAjQFs4b80Tv",
        "colab": {
          "base_uri": "https://localhost:8080/"
        },
        "outputId": "d7915c09-4edc-4176-d2b8-719c54fa149e"
      },
      "execution_count": 3,
      "outputs": [
        {
          "output_type": "stream",
          "name": "stdout",
          "text": [
            "Hola, Jose\n",
            "Hola, M Mar\n",
            "Hola, Lucia\n",
            "Hola, Eva\n"
          ]
        }
      ]
    },
    {
      "cell_type": "markdown",
      "source": [
        "Guarda en una variable y diccionario con algunos colores usando la clave en español y el valor en ingles.\n",
        "Preguntando al usuario por un color y mostrarle su valor en ingles."
      ],
      "metadata": {
        "id": "XQBFm1Ow9UWi"
      }
    },
    {
      "cell_type": "code",
      "source": [
        "colores = {'rojo':'red','amarillo':'yellow','verde':'green','azul':'blue'}\n",
        "opcion_usuario = input(\"Dime un color -> \")\n",
        "if opcion_usuario not in colores:\n",
        "  print(\"El color solicitado no esta en memoria\")\n",
        "else:\n",
        "  print(colores[opcion_usuario])"
      ],
      "metadata": {
        "id": "R-pB17IM9oYd",
        "colab": {
          "base_uri": "https://localhost:8080/"
        },
        "outputId": "4710dac0-c534-44ee-9e5f-a063fe7a86c0"
      },
      "execution_count": 5,
      "outputs": [
        {
          "output_type": "stream",
          "name": "stdout",
          "text": [
            "Dime un color -> rosa\n",
            "El color solicitado no esta en memoria\n"
          ]
        }
      ]
    },
    {
      "cell_type": "markdown",
      "source": [
        "En una tupla coloca numeros decimales, cadenas y listas, despues muestrala."
      ],
      "metadata": {
        "id": "JFaBD6NQ_GZ9"
      }
    },
    {
      "cell_type": "code",
      "source": [
        "tupla = (62,36,42.65,32.45,'cadena','hola',[2,3,4,5,4,3])\n",
        "print(tupla)"
      ],
      "metadata": {
        "id": "5iFfpjKg_RkM",
        "colab": {
          "base_uri": "https://localhost:8080/"
        },
        "outputId": "425d7327-06cd-4a97-c0d7-cf00d613a79f"
      },
      "execution_count": 6,
      "outputs": [
        {
          "output_type": "stream",
          "name": "stdout",
          "text": [
            "(62, 36, 42.65, 32.45, 'cadena', 'hola', [2, 3, 4, 5, 4, 3])\n"
          ]
        }
      ]
    },
    {
      "cell_type": "code",
      "source": [],
      "metadata": {
        "id": "P5yCaYm4iv1u"
      },
      "execution_count": null,
      "outputs": []
    }
  ]
}