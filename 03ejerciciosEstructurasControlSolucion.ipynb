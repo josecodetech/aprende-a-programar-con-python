{
  "nbformat": 4,
  "nbformat_minor": 0,
  "metadata": {
    "colab": {
      "provenance": []
    },
    "kernelspec": {
      "name": "python3",
      "display_name": "Python 3"
    },
    "language_info": {
      "name": "python"
    }
  },
  "cells": [
    {
      "cell_type": "markdown",
      "source": [
        "Escribe un programa que almacene una contraseña en una variable, preguntando al usuario una contraseña y comparar si coincide con la guardada en la variable."
      ],
      "metadata": {
        "id": "6aHqUaRtu9xz"
      }
    },
    {
      "cell_type": "code",
      "execution_count": 2,
      "metadata": {
        "id": "1ije2prQu0t7",
        "colab": {
          "base_uri": "https://localhost:8080/"
        },
        "outputId": "7c9dd24b-86ce-4bcf-c157-c46a9a146862"
      },
      "outputs": [
        {
          "output_type": "stream",
          "name": "stdout",
          "text": [
            "Cual es la contraseña? -> 123456\n",
            "Puedes acceder al sitio\n"
          ]
        }
      ],
      "source": [
        "contraseña = '123456'\n",
        "contraseña_usuario = input('Cual es la contraseña? -> ')\n",
        "if (contraseña == contraseña_usuario):\n",
        "  print(\"Puedes acceder al sitio\")\n",
        "else:\n",
        "  print(\"Acceso denegado!!!\")"
      ]
    },
    {
      "cell_type": "markdown",
      "source": [
        "Pedir 2 numeros al usuario para devolver el resultado de la division, ten en cuenta que si el usuario inserta un 0 como valor del divisor deberas indicarle que no se puede dividir por 0."
      ],
      "metadata": {
        "id": "RRimClrLvOmx"
      }
    },
    {
      "cell_type": "code",
      "source": [
        "num1 = int(input(\"Dime el primer numero -> \"))\n",
        "num2 = int(input(\"Dime el segundo numero -> \"))\n",
        "if num2 == 0:\n",
        "  print(\"No podemos dividir por cero\")\n",
        "else:\n",
        "  print(f\"El resultado de dividir {num1} / {num2} es {num1/num2}\")\n",
        "  "
      ],
      "metadata": {
        "id": "GtiKSvRIvvXv",
        "colab": {
          "base_uri": "https://localhost:8080/"
        },
        "outputId": "b765ed41-8b41-4018-a306-cdd87c607188"
      },
      "execution_count": 4,
      "outputs": [
        {
          "output_type": "stream",
          "name": "stdout",
          "text": [
            "Dime el primer numero -> 98\n",
            "Dime el segundo numero -> 0\n",
            "No podemos dividir por cero\n"
          ]
        }
      ]
    },
    {
      "cell_type": "markdown",
      "source": [
        "Solicitar la edad al usuario e indicar si es mayor de edad o no."
      ],
      "metadata": {
        "id": "qQ9DZQJTv4BY"
      }
    },
    {
      "cell_type": "code",
      "source": [
        "edad = int(input(\"Dime tu edad -> \"))\n",
        "if edad >= 18:\n",
        "  print(\"Eres mayor de edad\")\n",
        "else:\n",
        "  print(\"Eres menor de edad\")"
      ],
      "metadata": {
        "id": "EhBp7MI-v3aD",
        "colab": {
          "base_uri": "https://localhost:8080/"
        },
        "outputId": "cf056665-efdf-45c0-c7d5-e3b5398c44c0"
      },
      "execution_count": 6,
      "outputs": [
        {
          "output_type": "stream",
          "name": "stdout",
          "text": [
            "Dime tu edad -> 5\n",
            "Eres menor de edad\n"
          ]
        }
      ]
    },
    {
      "cell_type": "markdown",
      "source": [
        "Pedir un numero al usuario e indicar si es par o no."
      ],
      "metadata": {
        "id": "jNdYMInrvwea"
      }
    },
    {
      "cell_type": "code",
      "source": [
        "num = int(input(\"Dime un numero -> \"))\n",
        "if num % 2 == 0:\n",
        "  print(\"El numero es par\")\n",
        "else:\n",
        "  print(\"El numero es impar\")"
      ],
      "metadata": {
        "id": "ldit7nmEwAXi",
        "colab": {
          "base_uri": "https://localhost:8080/"
        },
        "outputId": "554cf112-136a-429f-8cdb-43a76682c9da"
      },
      "execution_count": 8,
      "outputs": [
        {
          "output_type": "stream",
          "name": "stdout",
          "text": [
            "Dime un numero -> 13\n",
            "El numero es impar\n"
          ]
        }
      ]
    },
    {
      "cell_type": "code",
      "source": [],
      "metadata": {
        "id": "j-NKnjkmUBgD"
      },
      "execution_count": null,
      "outputs": []
    }
  ]
}