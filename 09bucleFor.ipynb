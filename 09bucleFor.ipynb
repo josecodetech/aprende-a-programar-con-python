{
  "nbformat": 4,
  "nbformat_minor": 0,
  "metadata": {
    "colab": {
      "provenance": []
    },
    "kernelspec": {
      "name": "python3",
      "display_name": "Python 3"
    },
    "language_info": {
      "name": "python"
    }
  },
  "cells": [
    {
      "cell_type": "code",
      "execution_count": null,
      "metadata": {
        "id": "rW4T5dE6k1Ky"
      },
      "outputs": [],
      "source": []
    },
    {
      "cell_type": "markdown",
      "source": [
        "#Bucle For"
      ],
      "metadata": {
        "id": "QlqlpFdck3a_"
      }
    },
    {
      "cell_type": "code",
      "source": [
        "# Tabla de multiplicar\n",
        "tablaDel = int(input(\"Que tabla quieres ver? \"))\n",
        "print(f\"Tabla del {tablaDel}\")\n",
        "for contador in range(1,11):\n",
        "  resultado = tablaDel * contador\n",
        "  print(f\"{tablaDel} por {contador} es igual a {resultado}\")\n",
        "print(\"Fin de la tabla\")"
      ],
      "metadata": {
        "colab": {
          "base_uri": "https://localhost:8080/"
        },
        "id": "yFYRPxewk5Ar",
        "outputId": "b63bf8fc-0c66-430b-8f34-4ef12723edf6"
      },
      "execution_count": 1,
      "outputs": [
        {
          "output_type": "stream",
          "name": "stdout",
          "text": [
            "Que tabla quieres ver? 6\n",
            "Tabla del 6\n",
            "6 por 1 es igual a 6\n",
            "6 por 2 es igual a 12\n",
            "6 por 3 es igual a 18\n",
            "6 por 4 es igual a 24\n",
            "6 por 5 es igual a 30\n",
            "6 por 6 es igual a 36\n",
            "6 por 7 es igual a 42\n",
            "6 por 8 es igual a 48\n",
            "6 por 9 es igual a 54\n",
            "6 por 10 es igual a 60\n",
            "Fin de la tabla\n"
          ]
        }
      ]
    },
    {
      "cell_type": "code",
      "source": [
        "lista = [1,2,3,4,5]\n",
        "tupla = (1,2,4,5,6,3,2,1)\n",
        "lista02 = [(1,2),(2,4),(3,4)]\n",
        "diccionario = {'e':23,'f':25,'g':32}"
      ],
      "metadata": {
        "id": "jCOOUMogmS-n"
      },
      "execution_count": 2,
      "outputs": []
    },
    {
      "cell_type": "code",
      "source": [
        "for numero in lista:\n",
        "  print(numero)"
      ],
      "metadata": {
        "colab": {
          "base_uri": "https://localhost:8080/"
        },
        "id": "hkv6KqkfmzL7",
        "outputId": "b093c446-f020-44f8-b52f-992ee92abd02"
      },
      "execution_count": 3,
      "outputs": [
        {
          "output_type": "stream",
          "name": "stdout",
          "text": [
            "1\n",
            "2\n",
            "3\n",
            "4\n",
            "5\n"
          ]
        }
      ]
    },
    {
      "cell_type": "code",
      "source": [
        "for numero in tupla:\n",
        "  print(numero)"
      ],
      "metadata": {
        "colab": {
          "base_uri": "https://localhost:8080/"
        },
        "id": "3DLZ4H3bm3dV",
        "outputId": "a07d0818-d86c-4a0c-879d-cbb1cc0ca788"
      },
      "execution_count": 4,
      "outputs": [
        {
          "output_type": "stream",
          "name": "stdout",
          "text": [
            "1\n",
            "2\n",
            "4\n",
            "5\n",
            "6\n",
            "3\n",
            "2\n",
            "1\n"
          ]
        }
      ]
    },
    {
      "cell_type": "code",
      "source": [
        "for numero in lista02:\n",
        "  print(numero)\n",
        "  print(numero[0])\n",
        "  print(numero[1])"
      ],
      "metadata": {
        "colab": {
          "base_uri": "https://localhost:8080/"
        },
        "id": "6MiWl0RKm9cK",
        "outputId": "02ba7683-84ce-4571-e3dc-4d4e46a2ba6a"
      },
      "execution_count": 8,
      "outputs": [
        {
          "output_type": "stream",
          "name": "stdout",
          "text": [
            "(1, 2)\n",
            "1\n",
            "2\n",
            "(2, 4)\n",
            "2\n",
            "4\n",
            "(3, 4)\n",
            "3\n",
            "4\n"
          ]
        }
      ]
    },
    {
      "cell_type": "code",
      "source": [
        "for clave, valor in diccionario.items(): #.values() .keys()\n",
        "  print(clave)\n",
        "  print(valor)"
      ],
      "metadata": {
        "colab": {
          "base_uri": "https://localhost:8080/"
        },
        "id": "GhTbeC38nM6G",
        "outputId": "c3d8baa8-f8ce-452c-cd6b-1e821cf5201b"
      },
      "execution_count": 9,
      "outputs": [
        {
          "output_type": "stream",
          "name": "stdout",
          "text": [
            "e\n",
            "23\n",
            "f\n",
            "25\n",
            "g\n",
            "32\n"
          ]
        }
      ]
    },
    {
      "cell_type": "code",
      "source": [],
      "metadata": {
        "id": "PgrGJR4dnl0E"
      },
      "execution_count": null,
      "outputs": []
    }
  ]
}