{
  "nbformat": 4,
  "nbformat_minor": 0,
  "metadata": {
    "colab": {
      "provenance": []
    },
    "kernelspec": {
      "name": "python3",
      "display_name": "Python 3"
    },
    "language_info": {
      "name": "python"
    }
  },
  "cells": [
    {
      "cell_type": "code",
      "execution_count": null,
      "metadata": {
        "id": "00D-FOBwVaIR"
      },
      "outputs": [],
      "source": []
    },
    {
      "cell_type": "markdown",
      "source": [
        "#Condiciones"
      ],
      "metadata": {
        "id": "gnipVr7mVjTH"
      }
    },
    {
      "cell_type": "code",
      "source": [
        "# simbolos de comparacion < <= > >= != ==\n",
        "# operadores logicos not and  or \n",
        "# No debemos confundir el signo = con el ==\n",
        "not 3 > 5"
      ],
      "metadata": {
        "colab": {
          "base_uri": "https://localhost:8080/"
        },
        "id": "Tc0CRrbtVkz2",
        "outputId": "89e1d2dc-b90e-4a8e-fbbc-6fb8d17f11aa"
      },
      "execution_count": 1,
      "outputs": [
        {
          "output_type": "execute_result",
          "data": {
            "text/plain": [
              "True"
            ]
          },
          "metadata": {},
          "execution_count": 1
        }
      ]
    },
    {
      "cell_type": "code",
      "source": [
        "3>5 or 2<6"
      ],
      "metadata": {
        "colab": {
          "base_uri": "https://localhost:8080/"
        },
        "id": "efWOJyWHWplN",
        "outputId": "30f294b2-5eb6-42c2-b47b-8555ae829456"
      },
      "execution_count": 2,
      "outputs": [
        {
          "output_type": "execute_result",
          "data": {
            "text/plain": [
              "True"
            ]
          },
          "metadata": {},
          "execution_count": 2
        }
      ]
    },
    {
      "cell_type": "code",
      "source": [
        "3>1 and 5==7"
      ],
      "metadata": {
        "colab": {
          "base_uri": "https://localhost:8080/"
        },
        "id": "A2sjoWJ0W8o1",
        "outputId": "34fedbbd-3526-4762-ae6f-340d155c2ebd"
      },
      "execution_count": 4,
      "outputs": [
        {
          "output_type": "execute_result",
          "data": {
            "text/plain": [
              "False"
            ]
          },
          "metadata": {},
          "execution_count": 4
        }
      ]
    },
    {
      "cell_type": "code",
      "source": [
        "llueve = True\n",
        "if llueve : # tambien podemos poner if llueve == True\n",
        "  print(\"Llevo impermeable\")\n",
        "else:\n",
        "  print(\"Puedo salir sin mojarme\")\n",
        "# Lo siguiente se imprime siempre\n",
        "print(\"Me voy a la calle\")"
      ],
      "metadata": {
        "colab": {
          "base_uri": "https://localhost:8080/"
        },
        "id": "OEpetqgdXGrZ",
        "outputId": "fcae78e8-ee8b-4b9c-fe61-188bc0ad9a63"
      },
      "execution_count": 14,
      "outputs": [
        {
          "output_type": "stream",
          "name": "stdout",
          "text": [
            "Llevo impermeable\n",
            "Me voy a la calle\n"
          ]
        }
      ]
    },
    {
      "cell_type": "code",
      "source": [
        "numero1 = int(input(\"Dime el primer numero -> \"))\n",
        "numero2 = int(input(\"Dime el segundo numero -> \"))\n",
        "# comparamos y mostramos resultado\n",
        "if (numero1>numero2):\n",
        "  print(str(numero1)+\" es mayor que \"+str(numero2))\n",
        "elif (numero1<numero2):\n",
        "  print(str(numero1)+\" es menor que \"+str(numero2))\n",
        "else:\n",
        "  print(\"Los numeros son iguales\")\n",
        "print(\"Fin de la comparacion\")"
      ],
      "metadata": {
        "colab": {
          "base_uri": "https://localhost:8080/"
        },
        "id": "yQLq0-6JXmFb",
        "outputId": "8338454a-88a1-4bc4-d7ae-46f945890948"
      },
      "execution_count": 17,
      "outputs": [
        {
          "output_type": "stream",
          "name": "stdout",
          "text": [
            "Dime el primer numero -> 55\n",
            "Dime el segundo numero -> 4\n",
            "55 es mayor que 4\n",
            "Fin de la comparacion\n"
          ]
        }
      ]
    },
    {
      "cell_type": "code",
      "source": [
        "edad = 17\n",
        "if edad >= 18:\n",
        "  print(\"Puedes pasar\")\n",
        "else:\n",
        "  print(\"No puedes entrar\")"
      ],
      "metadata": {
        "colab": {
          "base_uri": "https://localhost:8080/"
        },
        "id": "0AIlfRLcZyTI",
        "outputId": "4c944b2a-bf73-4ac3-a383-90cdd9967e91"
      },
      "execution_count": 20,
      "outputs": [
        {
          "output_type": "stream",
          "name": "stdout",
          "text": [
            "No puedes entrar\n"
          ]
        }
      ]
    },
    {
      "cell_type": "code",
      "source": [
        "edad = 17\n",
        "if edad < 4:\n",
        "  precio = 0\n",
        "elif edad < 18:\n",
        "  precio = 10\n",
        "else:\n",
        "  precio = 15\n",
        "print(f'El precio de tu entrada es -> {precio}')\n"
      ],
      "metadata": {
        "colab": {
          "base_uri": "https://localhost:8080/"
        },
        "id": "JDz3BuPOalGO",
        "outputId": "bebd414b-65c5-4c34-f209-efc1cd7f5de2"
      },
      "execution_count": 22,
      "outputs": [
        {
          "output_type": "stream",
          "name": "stdout",
          "text": [
            "El precio de tu entrada es -> 10\n"
          ]
        }
      ]
    },
    {
      "cell_type": "code",
      "source": [
        "temperatura = int(input(\"Dime que temperatura hace \"))\n",
        "esta_lloviendo = input(\"Esta lloviendo? (s/n)\")\n",
        "if (esta_lloviendo == \"s\" or esta_lloviendo == \"S\"):\n",
        "  llueve = True\n",
        "else:\n",
        "  llueve = False\n",
        "if (temperatura < 10):\n",
        "  if(llueve):\n",
        "    print(\"Me abrigo y tomo el paraguas\")\n",
        "  else:\n",
        "    print(\"Me abrigo\")\n",
        "else:\n",
        "  if(llueve):\n",
        "    print(\"Tomo el paraguas\")\n",
        "  else:\n",
        "    print(\"Me voy rapidito que hace bueno\")\n",
        "print(\"Fin de la comparacion\")\n"
      ],
      "metadata": {
        "colab": {
          "base_uri": "https://localhost:8080/"
        },
        "id": "Sa1X1mrEbCVt",
        "outputId": "ddca4b15-91eb-438e-e9cb-1546bdc5a232"
      },
      "execution_count": 24,
      "outputs": [
        {
          "output_type": "stream",
          "name": "stdout",
          "text": [
            "Dime que temperatura hace 9\n",
            "Esta lloviendo? (s/n)s\n",
            "Me abrigo y tomo el paraguas\n",
            "Fin de la comparacion\n"
          ]
        }
      ]
    }
  ]
}