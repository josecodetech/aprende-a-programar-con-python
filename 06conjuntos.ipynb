{
  "nbformat": 4,
  "nbformat_minor": 0,
  "metadata": {
    "colab": {
      "provenance": []
    },
    "kernelspec": {
      "name": "python3",
      "display_name": "Python 3"
    },
    "language_info": {
      "name": "python"
    }
  },
  "cells": [
    {
      "cell_type": "markdown",
      "source": [
        "#Conjuntos"
      ],
      "metadata": {
        "id": "T2K4-VR-YnNA"
      }
    },
    {
      "cell_type": "code",
      "execution_count": 1,
      "metadata": {
        "colab": {
          "base_uri": "https://localhost:8080/"
        },
        "id": "YQ8jU7eAYX17",
        "outputId": "2295b3ab-97ca-42d3-fbfe-7d080a80b356"
      },
      "outputs": [
        {
          "output_type": "execute_result",
          "data": {
            "text/plain": [
              "set()"
            ]
          },
          "metadata": {},
          "execution_count": 1
        }
      ],
      "source": [
        "conjunto01 = set()\n",
        "conjunto01"
      ]
    },
    {
      "cell_type": "code",
      "source": [
        "conjunto01.add(15)\n",
        "conjunto01.add(5)\n",
        "conjunto01"
      ],
      "metadata": {
        "colab": {
          "base_uri": "https://localhost:8080/"
        },
        "id": "wcj3QvhDZB7w",
        "outputId": "12daef36-cbfa-4f1b-eb3a-8f2880aa2232"
      },
      "execution_count": 2,
      "outputs": [
        {
          "output_type": "execute_result",
          "data": {
            "text/plain": [
              "{5, 15}"
            ]
          },
          "metadata": {},
          "execution_count": 2
        }
      ]
    },
    {
      "cell_type": "code",
      "source": [
        "# desde lista eliminando duplicados\n",
        "lista = [1,2,3,5,3,2,6,8,10,12,1,3,4,5,3,9,8,1,7]\n",
        "lista"
      ],
      "metadata": {
        "colab": {
          "base_uri": "https://localhost:8080/"
        },
        "id": "pmUtS9CXZQld",
        "outputId": "05f92400-355d-4ee8-9721-cd68033d4367"
      },
      "execution_count": 3,
      "outputs": [
        {
          "output_type": "execute_result",
          "data": {
            "text/plain": [
              "[1, 2, 3, 5, 3, 2, 6, 8, 10, 12, 1, 3, 4, 5, 3, 9, 8, 1, 7]"
            ]
          },
          "metadata": {},
          "execution_count": 3
        }
      ]
    },
    {
      "cell_type": "code",
      "source": [
        "conjunto02 = set(lista)\n",
        "conjunto02"
      ],
      "metadata": {
        "colab": {
          "base_uri": "https://localhost:8080/"
        },
        "id": "pOCakAFsZfLF",
        "outputId": "1296cab7-4f3d-4570-df7d-8957ad876c37"
      },
      "execution_count": 4,
      "outputs": [
        {
          "output_type": "execute_result",
          "data": {
            "text/plain": [
              "{1, 2, 3, 4, 5, 6, 7, 8, 9, 10, 12}"
            ]
          },
          "metadata": {},
          "execution_count": 4
        }
      ]
    },
    {
      "cell_type": "code",
      "source": [
        "lista_sin_duplicados = list(conjunto02)\n",
        "lista_sin_duplicados"
      ],
      "metadata": {
        "colab": {
          "base_uri": "https://localhost:8080/"
        },
        "id": "rPX525jdZoyJ",
        "outputId": "20228cff-6ca6-46aa-f16d-180c53927701"
      },
      "execution_count": 5,
      "outputs": [
        {
          "output_type": "execute_result",
          "data": {
            "text/plain": [
              "[1, 2, 3, 4, 5, 6, 7, 8, 9, 10, 12]"
            ]
          },
          "metadata": {},
          "execution_count": 5
        }
      ]
    },
    {
      "cell_type": "code",
      "source": [
        "# borrar\n",
        "conjunto02.remove(5)\n",
        "conjunto02"
      ],
      "metadata": {
        "colab": {
          "base_uri": "https://localhost:8080/"
        },
        "id": "FyjPihqeZxxm",
        "outputId": "ea2e3913-f942-4891-c6df-0c12b43c84d2"
      },
      "execution_count": 6,
      "outputs": [
        {
          "output_type": "execute_result",
          "data": {
            "text/plain": [
              "{1, 2, 3, 4, 6, 7, 8, 9, 10, 12}"
            ]
          },
          "metadata": {},
          "execution_count": 6
        }
      ]
    },
    {
      "cell_type": "code",
      "source": [
        "conjunto02.discard(9)\n",
        "conjunto02"
      ],
      "metadata": {
        "colab": {
          "base_uri": "https://localhost:8080/"
        },
        "id": "RYSc21nYaCuW",
        "outputId": "9e292250-2ee6-4a6b-9725-38e3e57fd6cf"
      },
      "execution_count": 7,
      "outputs": [
        {
          "output_type": "execute_result",
          "data": {
            "text/plain": [
              "{1, 2, 3, 4, 6, 7, 8, 10, 12}"
            ]
          },
          "metadata": {},
          "execution_count": 7
        }
      ]
    },
    {
      "cell_type": "code",
      "source": [
        "conjunto02.clear()\n",
        "conjunto02"
      ],
      "metadata": {
        "colab": {
          "base_uri": "https://localhost:8080/"
        },
        "id": "PJv-KyyuaN5p",
        "outputId": "87f247dd-62e1-4094-ed3f-d6bcb7c9e730"
      },
      "execution_count": 8,
      "outputs": [
        {
          "output_type": "execute_result",
          "data": {
            "text/plain": [
              "set()"
            ]
          },
          "metadata": {},
          "execution_count": 8
        }
      ]
    },
    {
      "cell_type": "code",
      "source": [
        "conjunto01 = {1,2,3,4}\n",
        "conjunto02 = {3,4,5,6}\n",
        "conjunto03 = conjunto01.union(conjunto02)\n",
        "conjunto03"
      ],
      "metadata": {
        "colab": {
          "base_uri": "https://localhost:8080/"
        },
        "id": "txqbCkAlaSb3",
        "outputId": "f7e54d17-6061-4f70-affd-a5d76fdc957c"
      },
      "execution_count": 9,
      "outputs": [
        {
          "output_type": "execute_result",
          "data": {
            "text/plain": [
              "{1, 2, 3, 4, 5, 6}"
            ]
          },
          "metadata": {},
          "execution_count": 9
        }
      ]
    },
    {
      "cell_type": "code",
      "source": [
        "conjunto03 = conjunto01.intersection(conjunto02)\n",
        "conjunto03"
      ],
      "metadata": {
        "colab": {
          "base_uri": "https://localhost:8080/"
        },
        "id": "Si0NUbQManrL",
        "outputId": "5d62c3ad-ebea-4a84-f088-ec09ac3cf364"
      },
      "execution_count": 10,
      "outputs": [
        {
          "output_type": "execute_result",
          "data": {
            "text/plain": [
              "{3, 4}"
            ]
          },
          "metadata": {},
          "execution_count": 10
        }
      ]
    },
    {
      "cell_type": "code",
      "source": [
        "conjunto03 = conjunto01.difference(conjunto02)\n",
        "conjunto03"
      ],
      "metadata": {
        "colab": {
          "base_uri": "https://localhost:8080/"
        },
        "id": "Y82zRDtca2r4",
        "outputId": "f52444b2-c3ac-4210-867f-e1b166d75efe"
      },
      "execution_count": 11,
      "outputs": [
        {
          "output_type": "execute_result",
          "data": {
            "text/plain": [
              "{1, 2}"
            ]
          },
          "metadata": {},
          "execution_count": 11
        }
      ]
    },
    {
      "cell_type": "code",
      "source": [
        "conjunto03 = conjunto02.difference(conjunto01)\n",
        "conjunto03"
      ],
      "metadata": {
        "colab": {
          "base_uri": "https://localhost:8080/"
        },
        "id": "covciGDibCoj",
        "outputId": "7ed0f837-824d-4c17-d7fe-198946b210f7"
      },
      "execution_count": 12,
      "outputs": [
        {
          "output_type": "execute_result",
          "data": {
            "text/plain": [
              "{5, 6}"
            ]
          },
          "metadata": {},
          "execution_count": 12
        }
      ]
    },
    {
      "cell_type": "code",
      "source": [
        "conjunto03 = conjunto01.symmetric_difference(conjunto02)\n",
        "conjunto03"
      ],
      "metadata": {
        "colab": {
          "base_uri": "https://localhost:8080/"
        },
        "id": "vTdDZCywbGaP",
        "outputId": "f6325233-64ee-494a-ca47-20e232682d07"
      },
      "execution_count": 13,
      "outputs": [
        {
          "output_type": "execute_result",
          "data": {
            "text/plain": [
              "{1, 2, 5, 6}"
            ]
          },
          "metadata": {},
          "execution_count": 13
        }
      ]
    },
    {
      "cell_type": "code",
      "source": [
        "conjunto01.issubset(conjunto02)"
      ],
      "metadata": {
        "colab": {
          "base_uri": "https://localhost:8080/"
        },
        "id": "VXX_PvWPbP16",
        "outputId": "0d41a8f2-96e9-4322-e150-7cbe1fa8ce3f"
      },
      "execution_count": 14,
      "outputs": [
        {
          "output_type": "execute_result",
          "data": {
            "text/plain": [
              "False"
            ]
          },
          "metadata": {},
          "execution_count": 14
        }
      ]
    },
    {
      "cell_type": "code",
      "source": [
        "conjunto01.issuperset(conjunto02)"
      ],
      "metadata": {
        "colab": {
          "base_uri": "https://localhost:8080/"
        },
        "id": "BRbB_FucbXTi",
        "outputId": "f71e4527-d6c9-455a-f60d-d468b7d7b3da"
      },
      "execution_count": 15,
      "outputs": [
        {
          "output_type": "execute_result",
          "data": {
            "text/plain": [
              "False"
            ]
          },
          "metadata": {},
          "execution_count": 15
        }
      ]
    },
    {
      "cell_type": "code",
      "source": [],
      "metadata": {
        "id": "UHivHVZ4bgt2"
      },
      "execution_count": null,
      "outputs": []
    }
  ]
}